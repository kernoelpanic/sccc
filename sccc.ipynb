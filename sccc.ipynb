{
 "cells": [
  {
   "cell_type": "markdown",
   "metadata": {},
   "source": [
    "# https://github.com/kernoelpanic/sccc"
   ]
  },
  {
   "cell_type": "markdown",
   "metadata": {},
   "source": [
    "# Smart Contract CrashCourse:\n",
    "## Tutorial on Smart Contracts in Ethereuem using Ganache & Web3py"
   ]
  },
  {
   "cell_type": "markdown",
   "metadata": {},
   "source": [
    "Ethereum is a smart contract platform, there are also others (e.g., [Cardano](https://www.cardano.org/en/home/),[hyperleder](https://www.hyperledger.org/),[rootstock](https://www.rootstock.com/),[quorum](https://github.com/jpmorganchase/quorum), ...) but Ethereum is the most common (and I dont know as much about the others :) Therefore the tutorial as well as the project/exercise will focus on Ethereum style smart contracts. \n",
    "\n",
    "#### Ethereum(s)\n",
    "There are also several Ethereum(s) (due to community disagreement about the DAO Hack), but those are technically the same, dispite their blockchains differ since the DAO Hack : \n",
    "* [Ethereum](https://www.ethereum.org/)\n",
    "    - we will refer to this Ethereum for the rest of the lecture\n",
    "    - [wiki](https://github.com/ethereum/wiki/wiki)\n",
    "    - [yellow paper](https://ethereum.github.io/yellowpaper/paper.pdf)\n",
    "    - [white paper](https://github.com/ethereum/wiki/wiki/White-Paper) (more decent introduction)\n",
    "* [Ethereum Classic](https://ethereumclassic.github.io/)\n",
    "\n",
    "#### Versions / Roadmap\n",
    "The major versions of the Ethereum specification have dedicated names like: *Frontier*, *Homestead*, *Metropolis*, *Byzantium*, *Constantinople*, ... \n",
    "\n",
    "#### Clients\n",
    "There are also several Ethereum clients e.g.,:\n",
    "* [geth](https://github.com/ethereum/go-ethereum/wiki/geth)\n",
    "    - written in go\n",
    "    - we will use this client in the project/exercise\n",
    "* [parity](https://github.com/paritytech/parity-ethereum)\n",
    "    - written in rust\n",
    "* [cpp-ethereum](https://github.com/ethereum/aleth/wiki)\n",
    "    - written in cpp\n",
    "* [pyethapp](https://github.com/ethereum/pyethapp)\n",
    "    - written in python\n",
    "    - mostly for dev. purposes\n",
    "\n",
    "#### Testnets\n",
    "There are several Ethereum networks / blockchains.\n",
    "\n",
    "* Mainnet\n",
    "    - web blockchain explorers:\n",
    "        - [Etherscan](https://etherscan.io/)\n",
    "        - [Etherchain](https://www.etherchain.org/)\n",
    "* Public Testnets e.g.,:\n",
    "    - *Ropsten* \n",
    "        - PoW, should be compatiple with all clients that also work on main chain\n",
    "        - [Etherscan Ropsten explorer](https://ropsten.etherscan.io/)\n",
    "    - *Morden*\n",
    "        - Old public PoW testnet, now Ethereum classic testnet\n",
    "    - *Rinkeby*\n",
    "        - Public PoA geth compatible testnet\n",
    "    - *Kovan*\n",
    "        - Public PoA parity compatible testnet \n",
    "    \n",
    "There are also private testnets. For the project/exercise we will use a\n",
    "private geth PoA network to which you will connect your nodes. \n",
    "\n",
    "For the tutorial we will use a small development testnet provided by `ganache`"
   ]
  },
  {
   "cell_type": "markdown",
   "metadata": {},
   "source": [
    "## Basic interaction with `geth` or `ganache` using web3py"
   ]
  },
  {
   "cell_type": "markdown",
   "metadata": {},
   "source": [
    "The most common client lib to interface with ethereum clients (`geth`,`ganache`,...) is **web3**.\n",
    "* [web3.js](https://github.com/ethereum/web3.js/)\n",
    "    - node version\n",
    "* [web3py](https://github.com/ethereum/web3.py)\n",
    "    - python version\n",
    "    - as I prefer python, we will use this one ;)\n",
    "    - https://web3py.readthedocs.io/en/stable/\n",
    "\n",
    "For the tutorial we will only interact with `ganache` which uses his own local development testnet blockchain. But all commands issues via `web3py` are the same when connected to a \"real\" `geth` node.\n",
    "* [ganache-cli](https://github.com/trufflesuite/ganache-cli/tree/master)\n",
    "\n",
    "When running `geth` yout can also attach to it and use the JavaScript console (Read, Evaluate & Print Loop = REPL). \n",
    "Some stuff works in the geth console that does not work in `web3*`.\n",
    "Once `geth` is running on localhost start the binary again to attach to the running instance:\n",
    "```\n",
    "geth attach \"http://localhost:8545\"\n",
    "```\n",
    "\n",
    "#### Connect\n",
    "Import the web3 libarary and connect to a running `geth` or `ganache` node via `HTTPProvider`\n",
    "\n",
    "For the tutorial configuration the docker container of ganache is located at `172.18.0.2`"
   ]
  },
  {
   "cell_type": "code",
   "execution_count": 1,
   "metadata": {},
   "outputs": [],
   "source": [
    "import web3"
   ]
  },
  {
   "cell_type": "code",
   "execution_count": 12,
   "metadata": {},
   "outputs": [],
   "source": [
    "w3 = web3.Web3(web3.Web3.HTTPProvider(\"http://172.18.0.2:8545\"))\n",
    "# check if connection was successful\n",
    "assert w3.isConnected()"
   ]
  },
  {
   "cell_type": "markdown",
   "metadata": {},
   "source": [
    "If connected to `geth` or as in our case to `ganache` you can execute serveral commands with the client to interact with the blockchain the client is connected. "
   ]
  },
  {
   "cell_type": "markdown",
   "metadata": {},
   "source": [
    "\n",
    "\n",
    "First it is always good the check to which blockchain the client is connected. In our case `ganache` starts a development chain with a random ID. The network ID provides information on which network the connected node resides.\n",
    "The Ethereuem main network has id `1`.\n",
    "Public test networks or private custom test network should have different network IDs.\n",
    "For a list of network IDs see this list:\n",
    "* https://ethereum.stackexchange.com/questions/17051/how-to-select-a-network-id-or-is-there-a-list-of-network-ids\n",
    "\n",
    "**Note:** Ethereuem and Ethereuem Classice have the same network ID! To avoid replay attacks of transactions the `CHAIN_ID` was introduced and is used in transactions. \n",
    "* https://github.com/ethereum/EIPs/blob/master/EIPS/eip-155.md"
   ]
  },
  {
   "cell_type": "code",
   "execution_count": 15,
   "metadata": {},
   "outputs": [
    {
     "data": {
      "text/plain": [
       "'1544103705796'"
      ]
     },
     "execution_count": 15,
     "metadata": {},
     "output_type": "execute_result"
    }
   ],
   "source": [
    "# display network ID of client you are connected to\n",
    "w3.net.version"
   ]
  },
  {
   "cell_type": "markdown",
   "metadata": {},
   "source": [
    "Next it is interesting if the node is connected to other peers e.g., other `geth` clients.\n",
    "\n",
    "For our tutorial `ganache` is not connected to any peer since we have our own local blockchain. Our w3 connection is not a peer! The w3 connection is just our interfaces to our client.\n",
    "\n",
    "For the exercise your `geth` node will connect to our server in the private PoA testnet. Then you should see at least one peer i.e., our server. For a connection to be successful there are two requirements:\n",
    "* Both peers need to have the same **network ID** \n",
    "* Both peers need to have the same **genesis.json** / genesis block\n"
   ]
  },
  {
   "cell_type": "code",
   "execution_count": 13,
   "metadata": {},
   "outputs": [
    {
     "data": {
      "text/plain": [
       "0"
      ]
     },
     "execution_count": 13,
     "metadata": {},
     "output_type": "execute_result"
    }
   ],
   "source": [
    "# number of connected peers to our peer\n",
    "w3.net.peerCount"
   ]
  },
  {
   "cell_type": "markdown",
   "metadata": {},
   "source": [
    "For the exercise it will also be important to chech if your node is synchronized with the head of the blockchain i.e., our PoA node. \n",
    "If the node is started for the first time he will after some time start syncing. \n",
    "If synching is *False* then your should see a `blockNumber` > 0"
   ]
  },
  {
   "cell_type": "code",
   "execution_count": 7,
   "metadata": {},
   "outputs": [
    {
     "data": {
      "text/plain": [
       "False"
      ]
     },
     "execution_count": 7,
     "metadata": {},
     "output_type": "execute_result"
    }
   ],
   "source": [
    "# check if node is \"up-to-date\" with blockchain\n",
    "w3.eth.syncing"
   ]
  },
  {
   "cell_type": "code",
   "execution_count": 26,
   "metadata": {},
   "outputs": [
    {
     "data": {
      "text/plain": [
       "0"
      ]
     },
     "execution_count": 26,
     "metadata": {},
     "output_type": "execute_result"
    }
   ],
   "source": [
    "# return current blockchain head of node\n",
    "# Since ganache \"simulates\" blokchain,\n",
    "# blocks are mined on demand.\n",
    "# Therefore, no block has been mined yet\n",
    "w3.eth.blockNumber"
   ]
  },
  {
   "cell_type": "code",
   "execution_count": 27,
   "metadata": {},
   "outputs": [
    {
     "data": {
      "text/plain": [
       "AttributeDict({'number': 0,\n",
       " 'hash': HexBytes('0xf8d5723e5548928d2b45659dccfb491b9f749b652b6e9180a674b2f880a27efe'),\n",
       " 'parentHash': HexBytes('0x0000000000000000000000000000000000000000000000000000000000000000'),\n",
       " 'mixHash': HexBytes('0x0000000000000000000000000000000000000000000000000000000000000000'),\n",
       " 'nonce': HexBytes('0x0000000000000000'),\n",
       " 'sha3Uncles': HexBytes('0x1dcc4de8dec75d7aab85b567b6ccd41ad312451b948a7413f0a142fd40d49347'),\n",
       " 'logsBloom': HexBytes('0x00000000000000000000000000000000000000000000000000000000000000000000000000000000000000000000000000000000000000000000000000000000000000000000000000000000000000000000000000000000000000000000000000000000000000000000000000000000000000000000000000000000000000000000000000000000000000000000000000000000000000000000000000000000000000000000000000000000000000000000000000000000000000000000000000000000000000000000000000000000000000000000000000000000000000000000000000000000000000000000000000000000000000000000000000000000'),\n",
       " 'transactionsRoot': HexBytes('0x56e81f171bcc55a6ff8345e692c0f86e5b48e01b996cadc001622fb5e363b421'),\n",
       " 'stateRoot': HexBytes('0x1e8498b53f28f47023bf722faeae5cf4f2bafbf64e31f09ac31f6636842cc308'),\n",
       " 'receiptsRoot': HexBytes('0x56e81f171bcc55a6ff8345e692c0f86e5b48e01b996cadc001622fb5e363b421'),\n",
       " 'miner': '0x0000000000000000000000000000000000000000',\n",
       " 'difficulty': 0,\n",
       " 'totalDifficulty': 0,\n",
       " 'extraData': HexBytes('0x'),\n",
       " 'size': 1000,\n",
       " 'gasLimit': 6721975,\n",
       " 'gasUsed': 0,\n",
       " 'timestamp': 1544103706,\n",
       " 'transactions': [],\n",
       " 'uncles': []})"
      ]
     },
     "execution_count": 27,
     "metadata": {},
     "output_type": "execute_result"
    }
   ],
   "source": [
    "# block 0 ist the genesis block\n",
    "w3.eth.getBlock(0)"
   ]
  },
  {
   "cell_type": "code",
   "execution_count": 40,
   "metadata": {},
   "outputs": [
    {
     "data": {
      "text/plain": [
       "{'id': 14, 'jsonrpc': '2.0', 'result': '0x0'}"
      ]
     },
     "execution_count": 40,
     "metadata": {},
     "output_type": "execute_result"
    }
   ],
   "source": [
    "# instruct our test blockchain to mine a block\n",
    "w3.providers[0].make_request('evm_mine',params='')"
   ]
  },
  {
   "cell_type": "code",
   "execution_count": 41,
   "metadata": {},
   "outputs": [
    {
     "data": {
      "text/plain": [
       "3"
      ]
     },
     "execution_count": 41,
     "metadata": {},
     "output_type": "execute_result"
    }
   ],
   "source": [
    "w3.eth.blockNumber"
   ]
  },
  {
   "cell_type": "code",
   "execution_count": 42,
   "metadata": {},
   "outputs": [
    {
     "data": {
      "text/plain": [
       "AttributeDict({'number': 1,\n",
       " 'hash': HexBytes('0x6591545f810f4deaa6420f65b9f36ab8d7d3ccf296d1c255e7e45206e0d39f7d'),\n",
       " 'parentHash': HexBytes('0xf8d5723e5548928d2b45659dccfb491b9f749b652b6e9180a674b2f880a27efe'),\n",
       " 'mixHash': HexBytes('0x0000000000000000000000000000000000000000000000000000000000000000'),\n",
       " 'nonce': HexBytes('0x0000000000000000'),\n",
       " 'sha3Uncles': HexBytes('0x1dcc4de8dec75d7aab85b567b6ccd41ad312451b948a7413f0a142fd40d49347'),\n",
       " 'logsBloom': HexBytes('0x00000000000000000000000000000000000000000000000000000000000000000000000000000000000000000000000000000000000000000000000000000000000000000000000000000000000000000000000000000000000000000000000000000000000000000000000000000000000000000000000000000000000000000000000000000000000000000000000000000000000000000000000000000000000000000000000000000000000000000000000000000000000000000000000000000000000000000000000000000000000000000000000000000000000000000000000000000000000000000000000000000000000000000000000000000000'),\n",
       " 'transactionsRoot': HexBytes('0x56e81f171bcc55a6ff8345e692c0f86e5b48e01b996cadc001622fb5e363b421'),\n",
       " 'stateRoot': HexBytes('0x77e6c58304d391ae0c45b278663f1d44ef7c400cf271afc2f7b7fa2c923de426'),\n",
       " 'receiptsRoot': HexBytes('0x56e81f171bcc55a6ff8345e692c0f86e5b48e01b996cadc001622fb5e363b421'),\n",
       " 'miner': '0x0000000000000000000000000000000000000000',\n",
       " 'difficulty': 0,\n",
       " 'totalDifficulty': 0,\n",
       " 'extraData': HexBytes('0x'),\n",
       " 'size': 1000,\n",
       " 'gasLimit': 6721975,\n",
       " 'gasUsed': 0,\n",
       " 'timestamp': 1544111217,\n",
       " 'transactions': [],\n",
       " 'uncles': []})"
      ]
     },
     "execution_count": 42,
     "metadata": {},
     "output_type": "execute_result"
    }
   ],
   "source": [
    "w3.eth.getBlock(1)"
   ]
  },
  {
   "cell_type": "code",
   "execution_count": 12,
   "metadata": {
    "scrolled": true
   },
   "outputs": [
    {
     "data": {
      "text/plain": [
       "True"
      ]
     },
     "execution_count": 12,
     "metadata": {},
     "output_type": "execute_result"
    }
   ],
   "source": [
    "# our node is configured to mine blocks \n",
    "w3.eth.mining"
   ]
  },
  {
   "cell_type": "code",
   "execution_count": 44,
   "metadata": {},
   "outputs": [
    {
     "data": {
      "text/plain": [
       "0"
      ]
     },
     "execution_count": 44,
     "metadata": {},
     "output_type": "execute_result"
    }
   ],
   "source": [
    "# but since it is a fake chain we have no hashrate\n",
    "w3.eth.hashrate"
   ]
  },
  {
   "cell_type": "markdown",
   "metadata": {},
   "source": [
    "## Accounts and balances"
   ]
  },
  {
   "cell_type": "markdown",
   "metadata": {},
   "source": [
    "Accounts are your **external accounts** consisting of public and private keys. \n",
    "The ethereum address are the last 40 hex characters (20 bytes) of the hash (Keccak-256) of the public key prefixed with `0x`\n",
    "\n",
    "`ganache` generates a list of accounts on startup. \n",
    "For the exercise you will recieve your personal account keypair which you have to copy in your `geth` folder to import it. "
   ]
  },
  {
   "cell_type": "code",
   "execution_count": 46,
   "metadata": {},
   "outputs": [
    {
     "data": {
      "text/plain": [
       "['0xa17FB6cC107693b92e45e49022a2854Ac0DeAf25',\n",
       " '0xd6F636ab7ca8b72B3Ed6c05DFbEC84884DcDa9d2',\n",
       " '0xc1569422b43F53D4E942f101305330778F2024b6',\n",
       " '0x25Fee47b53b38D9571fD19f01720021aacf6d665',\n",
       " '0x8AedF7B70316FE24BD764221fB45642fA779406D',\n",
       " '0x267B9498927DF0b4b56040b62589f5e7b1a2cDaf',\n",
       " '0xD5B3218231bee723741f4cc1fbD0129ec731A8C9',\n",
       " '0x74fA3675dEfebA5cc49bEe8C1278B942E637CC92',\n",
       " '0xCC2d79279B2cFcB42DbdCA85C211848AdAfC9311',\n",
       " '0x9211a3Ed3b9dAa0C52958661A89c51031f2783D9']"
      ]
     },
     "execution_count": 46,
     "metadata": {},
     "output_type": "execute_result"
    }
   ],
   "source": [
    "w3.eth.accounts"
   ]
  },
  {
   "cell_type": "markdown",
   "metadata": {},
   "source": [
    "**Note:** Ethereum uses Keccak-256 but refers to it as SHA3, but the output of SHA3 as specified by NIST is different!"
   ]
  },
  {
   "cell_type": "code",
   "execution_count": 50,
   "metadata": {},
   "outputs": [
    {
     "data": {
      "text/plain": [
       "'a7ffc6f8bf1ed76651c14756a061d662f580ff4de43b49fa82d80a4b80f8434a'"
      ]
     },
     "execution_count": 50,
     "metadata": {},
     "output_type": "execute_result"
    }
   ],
   "source": [
    "from sha3 import sha3_256\n",
    "sha3_256(b'').hexdigest()"
   ]
  },
  {
   "cell_type": "code",
   "execution_count": 49,
   "metadata": {},
   "outputs": [
    {
     "data": {
      "text/plain": [
       "'c5d2460186f7233c927e7db2dcc703c0e500b653ca82273b7bfad8045d85a470'"
      ]
     },
     "execution_count": 49,
     "metadata": {},
     "output_type": "execute_result"
    }
   ],
   "source": [
    "from sha3 import keccak_256\n",
    "keccak_256(b'').hexdigest()"
   ]
  },
  {
   "cell_type": "code",
   "execution_count": 52,
   "metadata": {},
   "outputs": [
    {
     "data": {
      "text/plain": [
       "HexBytes('0xc5d2460186f7233c927e7db2dcc703c0e500b653ca82273b7bfad8045d85a470')"
      ]
     },
     "execution_count": 52,
     "metadata": {},
     "output_type": "execute_result"
    }
   ],
   "source": [
    "w3.sha3(text=\"\")"
   ]
  },
  {
   "cell_type": "markdown",
   "metadata": {},
   "source": [
    "The default address (also used to receive rewards from mining blocks) is usually the first in the list of accounts and usually also accessible via `w3.eth.coinbase`"
   ]
  },
  {
   "cell_type": "code",
   "execution_count": 173,
   "metadata": {},
   "outputs": [
    {
     "name": "stdout",
     "output_type": "stream",
     "text": [
      "42\n"
     ]
    },
    {
     "data": {
      "text/plain": [
       "'0xa17FB6cC107693b92e45e49022a2854Ac0DeAf25'"
      ]
     },
     "execution_count": 173,
     "metadata": {},
     "output_type": "execute_result"
    }
   ],
   "source": [
    "assert w3.eth.accounts[0] == w3.eth.coinbase\n",
    "print(len(w3.eth.accounts[0]))\n",
    "w3.eth.coinbase"
   ]
  },
  {
   "cell_type": "markdown",
   "metadata": {},
   "source": [
    "There is also a helper method to check if a string is an ethereum address."
   ]
  },
  {
   "cell_type": "code",
   "execution_count": 170,
   "metadata": {},
   "outputs": [
    {
     "data": {
      "text/plain": [
       "True"
      ]
     },
     "execution_count": 170,
     "metadata": {},
     "output_type": "execute_result"
    }
   ],
   "source": [
    "w3.isAddress(w3.eth.accounts[0])"
   ]
  },
  {
   "cell_type": "code",
   "execution_count": 183,
   "metadata": {},
   "outputs": [
    {
     "name": "stdout",
     "output_type": "stream",
     "text": [
      "0xd3cda913deb6f67967b99d67acdfa1712c293601 \n",
      " 42\n",
      "0xd3cda913deb6f67967b99d67acdfa1712c29360 \n",
      " 41\n"
     ]
    },
    {
     "data": {
      "text/plain": [
       "False"
      ]
     },
     "execution_count": 183,
     "metadata": {},
     "output_type": "execute_result"
    }
   ],
   "source": [
    "test_addr = '0xd3cda913deb6f67967b99d67acdfa1712c293601'\n",
    "print(test_addr,\"\\n\",len(test_addr))\n",
    "print(test_addr[:-1],\"\\n\",len(test_addr[:-1]))\n",
    "w3.isAddress(test_addr[:-1])"
   ]
  },
  {
   "cell_type": "code",
   "execution_count": 184,
   "metadata": {},
   "outputs": [
    {
     "data": {
      "text/plain": [
       "True"
      ]
     },
     "execution_count": 184,
     "metadata": {},
     "output_type": "execute_result"
    }
   ],
   "source": [
    "w3.isAddress(test_addr)"
   ]
  },
  {
   "cell_type": "markdown",
   "metadata": {},
   "source": [
    "**Note:** The capital letters of an address encode an optional checksum\n",
    "https://github.com/ethereum/EIPs/blob/master/EIPS/eip-55.md"
   ]
  },
  {
   "cell_type": "code",
   "execution_count": 186,
   "metadata": {},
   "outputs": [
    {
     "data": {
      "text/plain": [
       "False"
      ]
     },
     "execution_count": 186,
     "metadata": {},
     "output_type": "execute_result"
    }
   ],
   "source": [
    "w3.isChecksumAddress(test_addr)"
   ]
  },
  {
   "cell_type": "code",
   "execution_count": 188,
   "metadata": {},
   "outputs": [
    {
     "name": "stdout",
     "output_type": "stream",
     "text": [
      "0xd3CdA913deB6f67967B99D67aCDFa1712C293601\n"
     ]
    },
    {
     "data": {
      "text/plain": [
       "True"
      ]
     },
     "execution_count": 188,
     "metadata": {},
     "output_type": "execute_result"
    }
   ],
   "source": [
    "test_addr = w3.toChecksumAddress(test_addr)\n",
    "print(test_addr)\n",
    "w3.isChecksumAddress(test_addr)"
   ]
  },
  {
   "cell_type": "markdown",
   "metadata": {},
   "source": [
    "### Balance and gas\n",
    "To query the balance of an account or contract the function `eth.getBalance()` can be used with the respective address.\n",
    "\n",
    "**Note:** Per default all balances are in *Wei* i.e., the smallest unit of value in Ethereum. \n",
    "$$\n",
    "    1 \\textrm{ ether} = 10^{18} \\textrm{ wei} \n",
    "$$"
   ]
  },
  {
   "cell_type": "code",
   "execution_count": 62,
   "metadata": {},
   "outputs": [
    {
     "data": {
      "text/plain": [
       "100000000000000000000"
      ]
     },
     "execution_count": 62,
     "metadata": {},
     "output_type": "execute_result"
    }
   ],
   "source": [
    "balance = w3.eth.getBalance(w3.eth.accounts[0])\n",
    "balance"
   ]
  },
  {
   "cell_type": "code",
   "execution_count": 63,
   "metadata": {},
   "outputs": [
    {
     "data": {
      "text/plain": [
       "100.00000000000001"
      ]
     },
     "execution_count": 63,
     "metadata": {},
     "output_type": "execute_result"
    }
   ],
   "source": [
    "balance * 10**-18"
   ]
  },
  {
   "cell_type": "code",
   "execution_count": 65,
   "metadata": {},
   "outputs": [
    {
     "data": {
      "text/plain": [
       "Decimal('100')"
      ]
     },
     "execution_count": 65,
     "metadata": {},
     "output_type": "execute_result"
    }
   ],
   "source": [
    "# Directly output the balance in ether\n",
    "w3.fromWei(balance,'ether')"
   ]
  },
  {
   "cell_type": "code",
   "execution_count": 70,
   "metadata": {},
   "outputs": [],
   "source": [
    "def getBalance(address):\n",
    "    return w3.fromWei(w3.eth.getBalance(address),'ether')"
   ]
  },
  {
   "cell_type": "code",
   "execution_count": 71,
   "metadata": {},
   "outputs": [
    {
     "data": {
      "text/plain": [
       "Decimal('100')"
      ]
     },
     "execution_count": 71,
     "metadata": {},
     "output_type": "execute_result"
    }
   ],
   "source": [
    "getBalance(w3.eth.accounts[0])"
   ]
  },
  {
   "cell_type": "code",
   "execution_count": 72,
   "metadata": {},
   "outputs": [
    {
     "data": {
      "text/plain": [
       "Decimal('100')"
      ]
     },
     "execution_count": 72,
     "metadata": {},
     "output_type": "execute_result"
    }
   ],
   "source": [
    "getBalance(w3.eth.accounts[1])"
   ]
  },
  {
   "cell_type": "markdown",
   "metadata": {},
   "source": [
    "We now send a transaction that just transfers value i.e., ether from one account to another. Thereby, `ganache` automatically mines a block once he sees that a transactions requires confirmation. \n",
    "\n",
    "**Note:** When connected to `geth` you have to unlock an account first to send a transaction since the private keys are stored encrypted per default and protected with a password. In `ganache` this is not necessary since it is a development environment."
   ]
  },
  {
   "cell_type": "code",
   "execution_count": 116,
   "metadata": {},
   "outputs": [
    {
     "data": {
      "text/plain": [
       "True"
      ]
     },
     "execution_count": 116,
     "metadata": {},
     "output_type": "execute_result"
    }
   ],
   "source": [
    "# required in geth but not in ganache\n",
    "# Parameters are:\n",
    "# * account\n",
    "# * password\n",
    "# * duration of unlock (if 0 then forever)\n",
    "w3.personal.unlockAccount(w3.eth.accounts[0],\"\",0)"
   ]
  },
  {
   "cell_type": "code",
   "execution_count": 79,
   "metadata": {},
   "outputs": [
    {
     "data": {
      "text/plain": [
       "4"
      ]
     },
     "execution_count": 79,
     "metadata": {},
     "output_type": "execute_result"
    }
   ],
   "source": [
    "w3.eth.blockNumber"
   ]
  },
  {
   "cell_type": "code",
   "execution_count": 80,
   "metadata": {},
   "outputs": [
    {
     "data": {
      "text/plain": [
       "HexBytes('0xddd3060ca83b9bfdf7587eace66898fcea1be3a28bfab559a9e7ab07b83caa51')"
      ]
     },
     "execution_count": 80,
     "metadata": {},
     "output_type": "execute_result"
    }
   ],
   "source": [
    "w3.eth.sendTransaction({'from':w3.eth.accounts[0], \n",
    "                        'to':w3.eth.accounts[1], \n",
    "                        'value':10**18})"
   ]
  },
  {
   "cell_type": "code",
   "execution_count": 86,
   "metadata": {},
   "outputs": [
    {
     "data": {
      "text/plain": [
       "5"
      ]
     },
     "execution_count": 86,
     "metadata": {},
     "output_type": "execute_result"
    }
   ],
   "source": [
    "blkNumber = w3.eth.blockNumber\n",
    "blkNumber"
   ]
  },
  {
   "cell_type": "code",
   "execution_count": 82,
   "metadata": {},
   "outputs": [
    {
     "data": {
      "text/plain": [
       "Decimal('97.99916')"
      ]
     },
     "execution_count": 82,
     "metadata": {},
     "output_type": "execute_result"
    }
   ],
   "source": [
    "# the balance is reduced by more \n",
    "getBalance(w3.eth.accounts[0])"
   ]
  },
  {
   "cell_type": "code",
   "execution_count": 83,
   "metadata": {},
   "outputs": [
    {
     "data": {
      "text/plain": [
       "Decimal('102')"
      ]
     },
     "execution_count": 83,
     "metadata": {},
     "output_type": "execute_result"
    }
   ],
   "source": [
    "getBalance(w3.eth.accounts[1])"
   ]
  },
  {
   "cell_type": "code",
   "execution_count": 89,
   "metadata": {
    "scrolled": false
   },
   "outputs": [
    {
     "data": {
      "text/plain": [
       "AttributeDict({'hash': HexBytes('0xddd3060ca83b9bfdf7587eace66898fcea1be3a28bfab559a9e7ab07b83caa51'),\n",
       " 'nonce': 1,\n",
       " 'blockHash': HexBytes('0x35d363d49737063e4636f37459654ef80a10473cfeb58081398ddb6f047feffc'),\n",
       " 'blockNumber': 5,\n",
       " 'transactionIndex': 0,\n",
       " 'from': '0xa17FB6cC107693b92e45e49022a2854Ac0DeAf25',\n",
       " 'to': '0xd6F636ab7ca8b72B3Ed6c05DFbEC84884DcDa9d2',\n",
       " 'value': 1000000000000000000,\n",
       " 'gas': 121000,\n",
       " 'gasPrice': 20000000000,\n",
       " 'input': '0x',\n",
       " 'v': 27,\n",
       " 'r': HexBytes('0xf6a295fba0d6b758e84720a62e73a9e6dd40bd70f8d2be5773d96249db489dcd'),\n",
       " 's': HexBytes('0x4f98a3af04678f7e3a35960f6302258f67aa71cc256ad461778cebade9d148c3')})"
      ]
     },
     "execution_count": 89,
     "metadata": {},
     "output_type": "execute_result"
    }
   ],
   "source": [
    "# get first (and only) transaction in the previously mined block\n",
    "w3.eth.getTransactionByBlock(blkNumber,0)"
   ]
  },
  {
   "cell_type": "code",
   "execution_count": 96,
   "metadata": {},
   "outputs": [
    {
     "data": {
      "text/plain": [
       "AttributeDict({'number': 5,\n",
       " 'hash': HexBytes('0x35d363d49737063e4636f37459654ef80a10473cfeb58081398ddb6f047feffc'),\n",
       " 'parentHash': HexBytes('0xa506ba3bbc4d75a1372f72fda849176ad91b0f65593052d7ee9151f16289f8d1'),\n",
       " 'mixHash': HexBytes('0x0000000000000000000000000000000000000000000000000000000000000000'),\n",
       " 'nonce': HexBytes('0x0000000000000000'),\n",
       " 'sha3Uncles': HexBytes('0x1dcc4de8dec75d7aab85b567b6ccd41ad312451b948a7413f0a142fd40d49347'),\n",
       " 'logsBloom': HexBytes('0x00000000000000000000000000000000000000000000000000000000000000000000000000000000000000000000000000000000000000000000000000000000000000000000000000000000000000000000000000000000000000000000000000000000000000000000000000000000000000000000000000000000000000000000000000000000000000000000000000000000000000000000000000000000000000000000000000000000000000000000000000000000000000000000000000000000000000000000000000000000000000000000000000000000000000000000000000000000000000000000000000000000000000000000000000000000'),\n",
       " 'transactionsRoot': HexBytes('0x56e81f171bcc55a6ff8345e692c0f86e5b48e01b996cadc001622fb5e363b421'),\n",
       " 'stateRoot': HexBytes('0x4b10f0d1e52fb08d84ec087bd375b6abf32492606e32c46c96c337883fb68b29'),\n",
       " 'receiptsRoot': HexBytes('0x56e81f171bcc55a6ff8345e692c0f86e5b48e01b996cadc001622fb5e363b421'),\n",
       " 'miner': '0x0000000000000000000000000000000000000000',\n",
       " 'difficulty': 0,\n",
       " 'totalDifficulty': 0,\n",
       " 'extraData': HexBytes('0x'),\n",
       " 'size': 1000,\n",
       " 'gasLimit': 6721975,\n",
       " 'gasUsed': 21000,\n",
       " 'timestamp': 2362,\n",
       " 'transactions': [HexBytes('0xddd3060ca83b9bfdf7587eace66898fcea1be3a28bfab559a9e7ab07b83caa51')],\n",
       " 'uncles': []})"
      ]
     },
     "execution_count": 96,
     "metadata": {},
     "output_type": "execute_result"
    }
   ],
   "source": [
    "# get block and see the transaction id and gas used below\n",
    "blk = w3.eth.getBlock(blkNumber)\n",
    "blk"
   ]
  },
  {
   "cell_type": "code",
   "execution_count": 93,
   "metadata": {},
   "outputs": [
    {
     "data": {
      "text/plain": [
       "21000"
      ]
     },
     "execution_count": 93,
     "metadata": {},
     "output_type": "execute_result"
    }
   ],
   "source": [
    "# estimate the gas price of an transaction without executing it\n",
    "w3.eth.estimateGas({'from':w3.eth.accounts[0], \n",
    "                    'to':w3.eth.accounts[1], \n",
    "                    'value':10**18})"
   ]
  },
  {
   "cell_type": "code",
   "execution_count": 201,
   "metadata": {},
   "outputs": [
    {
     "data": {
      "text/plain": [
       "20000000000"
      ]
     },
     "execution_count": 201,
     "metadata": {},
     "output_type": "execute_result"
    }
   ],
   "source": [
    "# conversion between gas and ether specified per transaction\n",
    "# i.e., how much wei a transaction is willing to pay for \n",
    "w3.eth.gasPrice"
   ]
  },
  {
   "cell_type": "code",
   "execution_count": 204,
   "metadata": {},
   "outputs": [
    {
     "data": {
      "text/plain": [
       "0.00042"
      ]
     },
     "execution_count": 204,
     "metadata": {},
     "output_type": "execute_result"
    }
   ],
   "source": [
    "# gasUsed(by the transaction) * gasPrice(specified in tx)\n",
    "# gives the wei it costs to send it \n",
    "# times 10^18 gives the ether\n",
    "(21000 * 20000000000) * 10**-18"
   ]
  },
  {
   "cell_type": "code",
   "execution_count": 200,
   "metadata": {},
   "outputs": [
    {
     "data": {
      "text/plain": [
       "'0xddd3060ca83b9bfdf7587eace66898fcea1be3a28bfab559a9e7ab07b83caa51'"
      ]
     },
     "execution_count": 200,
     "metadata": {},
     "output_type": "execute_result"
    }
   ],
   "source": [
    "# get the transaction ID of the first (and only) transaction in the block\n",
    "blk[\"transactions\"][0].hex()"
   ]
  },
  {
   "cell_type": "code",
   "execution_count": 106,
   "metadata": {},
   "outputs": [
    {
     "data": {
      "text/plain": [
       "AttributeDict({'hash': HexBytes('0xddd3060ca83b9bfdf7587eace66898fcea1be3a28bfab559a9e7ab07b83caa51'),\n",
       " 'nonce': 1,\n",
       " 'blockHash': HexBytes('0x35d363d49737063e4636f37459654ef80a10473cfeb58081398ddb6f047feffc'),\n",
       " 'blockNumber': 5,\n",
       " 'transactionIndex': 0,\n",
       " 'from': '0xa17FB6cC107693b92e45e49022a2854Ac0DeAf25',\n",
       " 'to': '0xd6F636ab7ca8b72B3Ed6c05DFbEC84884DcDa9d2',\n",
       " 'value': 1000000000000000000,\n",
       " 'gas': 121000,\n",
       " 'gasPrice': 20000000000,\n",
       " 'input': '0x',\n",
       " 'v': 27,\n",
       " 'r': HexBytes('0xf6a295fba0d6b758e84720a62e73a9e6dd40bd70f8d2be5773d96249db489dcd'),\n",
       " 's': HexBytes('0x4f98a3af04678f7e3a35960f6302258f67aa71cc256ad461778cebade9d148c3')})"
      ]
     },
     "execution_count": 106,
     "metadata": {},
     "output_type": "execute_result"
    }
   ],
   "source": [
    "# Query the transaction by ID\n",
    "w3.eth.getTransaction(blk[\"transactions\"][0].hex())"
   ]
  },
  {
   "cell_type": "markdown",
   "metadata": {},
   "source": [
    "## Contract deployment and interaction (the hard way)"
   ]
  },
  {
   "cell_type": "markdown",
   "metadata": {},
   "source": [
    "Now its time to deploy our first contract.\n",
    "For the first time we do it the hard way."
   ]
  },
  {
   "cell_type": "code",
   "execution_count": 143,
   "metadata": {},
   "outputs": [
    {
     "name": "stdout",
     "output_type": "stream",
     "text": [
      "pragma solidity ^0.4.25;\r\n",
      "\r\n",
      "contract Greeter {\r\n",
      "    string public greeting;\r\n",
      "\r\n",
      "    //Old constructor syntax, function name same as contract name:\r\n",
      "    //function Greeter() public {\r\n",
      "    //new constructor syntax:\r\n",
      "    constructor() public {\r\n",
      "        greeting = 'Hello';\r\n",
      "    }\r\n",
      "\r\n",
      "    function setGreeting(string _greeting) public {\r\n",
      "        greeting = _greeting;\r\n",
      "    }\r\n",
      "\r\n",
      "    function greet() view public returns (string) {\r\n",
      "        return greeting;\r\n",
      "    }\r\n",
      "}\r\n"
     ]
    }
   ],
   "source": [
    "# execute console command and print Greeter.sol\n",
    "!cat Greeter/Greeter.sol"
   ]
  },
  {
   "cell_type": "code",
   "execution_count": 151,
   "metadata": {
    "scrolled": true
   },
   "outputs": [
    {
     "name": "stdout",
     "output_type": "stream",
     "text": [
      "/smartcode/Greeter\n"
     ]
    }
   ],
   "source": [
    "cd Greeter "
   ]
  },
  {
   "cell_type": "code",
   "execution_count": 152,
   "metadata": {
    "scrolled": true
   },
   "outputs": [
    {
     "name": "stdout",
     "output_type": "stream",
     "text": [
      "/smartcode/Greeter\r\n"
     ]
    }
   ],
   "source": [
    "!pwd"
   ]
  },
  {
   "cell_type": "code",
   "execution_count": 144,
   "metadata": {},
   "outputs": [
    {
     "name": "stdout",
     "output_type": "stream",
     "text": [
      "solc, the Solidity commandline compiler.\r\n",
      "\r\n",
      "This program comes with ABSOLUTELY NO WARRANTY. This is free software, and you\r\n",
      "are welcome to redistribute it under certain conditions. See 'solc --license'\r\n",
      "for details.\r\n",
      "\r\n",
      "Usage: solc [options] [input_file...]\r\n",
      "Compiles the given Solidity input files (or the standard input if none given or\r\n",
      "\"-\" is used as a file name) and outputs the components specified in the options\r\n",
      "at standard output or in files in the output directory, if specified.\r\n",
      "Imports are automatically read from the filesystem, but it is also possible to\r\n",
      "remap paths using the context:prefix=path syntax.\r\n",
      "Example:\r\n",
      "    solc --bin -o /tmp/solcoutput dapp-bin=/usr/local/lib/dapp-bin contract.sol\r\n",
      "\r\n",
      "Allowed options:\r\n",
      "  --help               Show help message and exit.\r\n",
      "  --version            Show version and exit.\r\n",
      "  --license            Show licensing information and exit.\r\n",
      "  --evm-version version\r\n",
      "                       Select desired EVM version. Either homestead, \r\n",
      "                       tangerineWhistle, spuriousDragon, byzantium (default) or\r\n",
      "                       constantinople.\r\n",
      "  --optimize           Enable bytecode optimizer.\r\n",
      "  --optimize-runs n (=200)\r\n",
      "                       Set for how many contract runs to optimize.Lower values \r\n",
      "                       will optimize more for initial deployment cost, higher \r\n",
      "                       values will optimize more for high-frequency usage.\r\n",
      "  --pretty-json        Output JSON in pretty format. Currently it only works \r\n",
      "                       with the combined JSON output.\r\n",
      "  --libraries libs     Direct string or file containing library addresses. \r\n",
      "                       Syntax: <libraryName>: <address> [, or whitespace] ...\r\n",
      "                       Address is interpreted as a hex string optionally \r\n",
      "                       prefixed by 0x.\r\n",
      "  -o [ --output-dir ] path\r\n",
      "                       If given, creates one file per component and \r\n",
      "                       contract/file at the specified directory.\r\n",
      "  --overwrite          Overwrite existing files (used together with -o).\r\n",
      "  --combined-json abi,asm,ast,bin,bin-runtime,clone-bin,compact-format,devdoc,hashes,interface,metadata,opcodes,srcmap,srcmap-runtime,userdoc\r\n",
      "                       Output a single json document containing the specified \r\n",
      "                       information.\r\n",
      "  --gas                Print an estimate of the maximal gas usage for each \r\n",
      "                       function.\r\n",
      "  --standard-json      Switch to Standard JSON input / output mode, ignoring \r\n",
      "                       all options. It reads from standard input and provides \r\n",
      "                       the result on the standard output.\r\n",
      "  --assemble           Switch to assembly mode, ignoring all options except \r\n",
      "                       --machine and assumes input is assembly.\r\n",
      "  --julia              Switch to JULIA mode, ignoring all options except \r\n",
      "                       --machine and assumes input is JULIA.\r\n",
      "  --strict-assembly    Switch to strict assembly mode, ignoring all options \r\n",
      "                       except --machine and assumes input is strict assembly.\r\n",
      "  --machine evm,evm15,ewasm\r\n",
      "                       Target machine in assembly or JULIA mode.\r\n",
      "  --link               Switch to linker mode, ignoring all options apart from \r\n",
      "                       --libraries and modify binaries in place.\r\n",
      "  --metadata-literal   Store referenced sources are literal data in the \r\n",
      "                       metadata output.\r\n",
      "  --allow-paths path(s)\r\n",
      "                       Allow a given path for imports. A list of paths can be \r\n",
      "                       supplied by separating them with a comma.\r\n",
      "  --ignore-missing     Ignore missing files.\r\n",
      "\r\n",
      "Output Components:\r\n",
      "  --ast                AST of all source files.\r\n",
      "  --ast-json           AST of all source files in JSON format.\r\n",
      "  --ast-compact-json   AST of all source files in a compact JSON format.\r\n",
      "  --asm                EVM assembly of the contracts.\r\n",
      "  --asm-json           EVM assembly of the contracts in JSON format.\r\n",
      "  --opcodes            Opcodes of the contracts.\r\n",
      "  --bin                Binary of the contracts in hex.\r\n",
      "  --bin-runtime        Binary of the runtime part of the contracts in hex.\r\n",
      "  --clone-bin          Binary of the clone contracts in hex.\r\n",
      "  --abi                ABI specification of the contracts.\r\n",
      "  --hashes             Function signature hashes of the contracts.\r\n",
      "  --userdoc            Natspec user documentation of all contracts.\r\n",
      "  --devdoc             Natspec developer documentation of all contracts.\r\n",
      "  --metadata           Combined Metadata JSON whose Swarm hash is stored \r\n",
      "                       on-chain.\r\n",
      "  --formal             Translated source suitable for formal analysis. \r\n",
      "                       (Deprecated)\r\n"
     ]
    }
   ],
   "source": [
    "!solc --help"
   ]
  },
  {
   "cell_type": "code",
   "execution_count": 410,
   "metadata": {},
   "outputs": [],
   "source": [
    "!solc --bin --overwrite -o ./ Greeter.sol"
   ]
  },
  {
   "cell_type": "code",
   "execution_count": 411,
   "metadata": {},
   "outputs": [
    {
     "name": "stdout",
     "output_type": "stream",
     "text": [
      "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"
     ]
    }
   ],
   "source": [
    "!cat Greeter.bin"
   ]
  },
  {
   "cell_type": "code",
   "execution_count": 412,
   "metadata": {},
   "outputs": [],
   "source": [
    "# assign cat output to python variable\n",
    "out = !cat Greeter.bin\n",
    "cbin = out[0]"
   ]
  },
  {
   "cell_type": "code",
   "execution_count": 413,
   "metadata": {},
   "outputs": [],
   "source": [
    "!solc --abi --overwrite -o ./ Greeter.sol"
   ]
  },
  {
   "cell_type": "code",
   "execution_count": 414,
   "metadata": {},
   "outputs": [
    {
     "name": "stdout",
     "output_type": "stream",
     "text": [
      "[{\"constant\":true,\"inputs\":[],\"name\":\"greetbit\",\"outputs\":[{\"name\":\"\",\"type\":\"uint256\"}],\"payable\":false,\"stateMutability\":\"view\",\"type\":\"function\"},{\"constant\":false,\"inputs\":[{\"name\":\"bit\",\"type\":\"uint256\"}],\"name\":\"setGreetbit\",\"outputs\":[],\"payable\":false,\"stateMutability\":\"nonpayable\",\"type\":\"function\"},{\"constant\":false,\"inputs\":[{\"name\":\"_greeting\",\"type\":\"string\"}],\"name\":\"setGreeting\",\"outputs\":[],\"payable\":false,\"stateMutability\":\"nonpayable\",\"type\":\"function\"},{\"constant\":true,\"inputs\":[],\"name\":\"greet\",\"outputs\":[{\"name\":\"\",\"type\":\"string\"}],\"payable\":false,\"stateMutability\":\"view\",\"type\":\"function\"},{\"constant\":true,\"inputs\":[],\"name\":\"greeting\",\"outputs\":[{\"name\":\"\",\"type\":\"string\"}],\"payable\":false,\"stateMutability\":\"view\",\"type\":\"function\"},{\"inputs\":[],\"payable\":false,\"stateMutability\":\"nonpayable\",\"type\":\"constructor\"},{\"payable\":true,\"stateMutability\":\"payable\",\"type\":\"fallback\"}]"
     ]
    }
   ],
   "source": [
    "!cat Greeter.abi"
   ]
  },
  {
   "cell_type": "code",
   "execution_count": 415,
   "metadata": {},
   "outputs": [],
   "source": [
    "out = !cat Greeter.abi\n",
    "cabi = out[0]"
   ]
  },
  {
   "cell_type": "markdown",
   "metadata": {},
   "source": [
    "One way to send a deploy transaction is using the w3py libary helper function cunstructor."
   ]
  },
  {
   "cell_type": "code",
   "execution_count": 416,
   "metadata": {},
   "outputs": [
    {
     "data": {
      "text/plain": [
       "HexBytes('0x813686a62580be9001d46ec4b9a83c3f862fe210be9a236cde4a2c8241a10bb2')"
      ]
     },
     "execution_count": 416,
     "metadata": {},
     "output_type": "execute_result"
    }
   ],
   "source": [
    "# send transaction to deploy contract with helper function\n",
    "contract=w3.eth.contract(abi=cabi,\n",
    "                         bytecode=cbin)\n",
    "tx_hash = contract.constructor().transact({\"from\":w3.eth.accounts[0],})\n",
    "tx_hash"
   ]
  },
  {
   "cell_type": "markdown",
   "metadata": {},
   "source": [
    "Another way which can also estimate the gas costs of the deploy transaction is sending is \n",
    "directly via `sendTransaction` and add the previously compiled contract as `data`"
   ]
  },
  {
   "cell_type": "code",
   "execution_count": 417,
   "metadata": {},
   "outputs": [
    {
     "data": {
      "text/plain": [
       "400812"
      ]
     },
     "execution_count": 417,
     "metadata": {},
     "output_type": "execute_result"
    }
   ],
   "source": [
    "# estimate gas of deployment transaction\n",
    "w3.eth.estimateGas({\"from\":w3.eth.accounts[0],\"data\":cbin,\"value\":0})"
   ]
  },
  {
   "cell_type": "code",
   "execution_count": 418,
   "metadata": {},
   "outputs": [
    {
     "data": {
      "text/plain": [
       "HexBytes('0x7933f8b8682bfbbced34522904343a2558364ba1c4c1ad1cba3d4f8dbe2c31de')"
      ]
     },
     "execution_count": 418,
     "metadata": {},
     "output_type": "execute_result"
    }
   ],
   "source": [
    "# send transaction and get transaction hash\n",
    "tx_hash = w3.eth.sendTransaction({\"from\":w3.eth.accounts[0],\"data\":cbin,\"value\":0})\n",
    "tx_hash"
   ]
  },
  {
   "cell_type": "code",
   "execution_count": 419,
   "metadata": {},
   "outputs": [
    {
     "data": {
      "text/plain": [
       "AttributeDict({'hash': HexBytes('0x7933f8b8682bfbbced34522904343a2558364ba1c4c1ad1cba3d4f8dbe2c31de'),\n",
       " 'nonce': 59,\n",
       " 'blockHash': HexBytes('0x54a574632fbe25233da602d6f545c51ea785a8cd89da98e69edcc3ba3a08a3a9'),\n",
       " 'blockNumber': 63,\n",
       " 'transactionIndex': 0,\n",
       " 'from': '0xa17FB6cC107693b92e45e49022a2854Ac0DeAf25',\n",
       " 'to': None,\n",
       " 'value': 0,\n",
       " 'gas': 500812,\n",
       " 'gasPrice': 20000000000,\n",
       " 'input': '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',\n",
       " 'v': 28,\n",
       " 'r': HexBytes('0xf5ea041c3cb3a31f49b99c50595ac6ad78cd6a3b6cc0fa4a7dc2d3116964202f'),\n",
       " 's': HexBytes('0x6cf6e500c3de383f09c5046ddcf28a5616699850b6ab70e9684ad1f18d642b6f')})"
      ]
     },
     "execution_count": 419,
     "metadata": {},
     "output_type": "execute_result"
    }
   ],
   "source": [
    "tx_info = w3.eth.getTransaction(tx_hash)\n",
    "tx_info"
   ]
  },
  {
   "cell_type": "markdown",
   "metadata": {},
   "source": [
    "Normally one has to wait till the transaction goes through, with ganache this is almost instant "
   ]
  },
  {
   "cell_type": "code",
   "execution_count": 420,
   "metadata": {},
   "outputs": [
    {
     "data": {
      "text/plain": [
       "AttributeDict({'transactionHash': HexBytes('0x7933f8b8682bfbbced34522904343a2558364ba1c4c1ad1cba3d4f8dbe2c31de'),\n",
       " 'transactionIndex': 0,\n",
       " 'blockHash': HexBytes('0x54a574632fbe25233da602d6f545c51ea785a8cd89da98e69edcc3ba3a08a3a9'),\n",
       " 'blockNumber': 63,\n",
       " 'from': '0xa17fb6cc107693b92e45e49022a2854ac0deaf25',\n",
       " 'to': None,\n",
       " 'gasUsed': 400812,\n",
       " 'cumulativeGasUsed': 400812,\n",
       " 'contractAddress': '0x258c5Ca69030Ba1E9DaA1D43338b5def61DE4673',\n",
       " 'logs': [],\n",
       " 'status': 1,\n",
       " 'logsBloom': HexBytes('0x00000000000000000000000000000000000000000000000000000000000000000000000000000000000000000000000000000000000000000000000000000000000000000000000000000000000000000000000000000000000000000000000000000000000000000000000000000000000000000000000000000000000000000000000000000000000000000000000000000000000000000000000000000000000000000000000000000000000000000000000000000000000000000000000000000000000000000000000000000000000000000000000000000000000000000000000000000000000000000000000000000000000000000000000000000000'),\n",
       " 'v': '0x1c',\n",
       " 'r': '0xf5ea041c3cb3a31f49b99c50595ac6ad78cd6a3b6cc0fa4a7dc2d3116964202f',\n",
       " 's': '0x6cf6e500c3de383f09c5046ddcf28a5616699850b6ab70e9684ad1f18d642b6f'})"
      ]
     },
     "execution_count": 420,
     "metadata": {},
     "output_type": "execute_result"
    }
   ],
   "source": [
    "# wait till tx goes through \n",
    "tx_receipt = w3.eth.waitForTransactionReceipt(tx_hash)\n",
    "tx_receipt\n",
    "\n",
    "# other way without wait only successful if mined:\n",
    "# w3.eth.getTransactionReceipt(tx_hash)"
   ]
  },
  {
   "cell_type": "code",
   "execution_count": 421,
   "metadata": {},
   "outputs": [
    {
     "data": {
      "text/plain": [
       "'0x258c5Ca69030Ba1E9DaA1D43338b5def61DE4673'"
      ]
     },
     "execution_count": 421,
     "metadata": {},
     "output_type": "execute_result"
    }
   ],
   "source": [
    "# the important thing from the tx receipt is the address at which \n",
    "# the contract was deployed\n",
    "caddress = tx_receipt[\"contractAddress\"]\n",
    "caddress"
   ]
  },
  {
   "cell_type": "code",
   "execution_count": 422,
   "metadata": {},
   "outputs": [
    {
     "data": {
      "text/plain": [
       "AttributeDict({'number': 63,\n",
       " 'hash': HexBytes('0x54a574632fbe25233da602d6f545c51ea785a8cd89da98e69edcc3ba3a08a3a9'),\n",
       " 'parentHash': HexBytes('0x12c6ce7ec144d6d7f8d3091bd71202a0244d5856f8134072b134fa7df430de3d'),\n",
       " 'mixHash': HexBytes('0x0000000000000000000000000000000000000000000000000000000000000000'),\n",
       " 'nonce': HexBytes('0x0000000000000000'),\n",
       " 'sha3Uncles': HexBytes('0x1dcc4de8dec75d7aab85b567b6ccd41ad312451b948a7413f0a142fd40d49347'),\n",
       " 'logsBloom': HexBytes('0x00000000000000000000000000000000000000000000000000000000000000000000000000000000000000000000000000000000000000000000000000000000000000000000000000000000000000000000000000000000000000000000000000000000000000000000000000000000000000000000000000000000000000000000000000000000000000000000000000000000000000000000000000000000000000000000000000000000000000000000000000000000000000000000000000000000000000000000000000000000000000000000000000000000000000000000000000000000000000000000000000000000000000000000000000000000'),\n",
       " 'transactionsRoot': HexBytes('0x56e81f171bcc55a6ff8345e692c0f86e5b48e01b996cadc001622fb5e363b421'),\n",
       " 'stateRoot': HexBytes('0xcdebcecc0c103ba5b7ce836cc1982ca34fa37dbd8fdc307aa717e320b8478913'),\n",
       " 'receiptsRoot': HexBytes('0x56e81f171bcc55a6ff8345e692c0f86e5b48e01b996cadc001622fb5e363b421'),\n",
       " 'miner': '0x0000000000000000000000000000000000000000',\n",
       " 'difficulty': 0,\n",
       " 'totalDifficulty': 0,\n",
       " 'extraData': HexBytes('0x'),\n",
       " 'size': 1000,\n",
       " 'gasLimit': 6721975,\n",
       " 'gasUsed': 400812,\n",
       " 'timestamp': 32070,\n",
       " 'transactions': [HexBytes('0x7933f8b8682bfbbced34522904343a2558364ba1c4c1ad1cba3d4f8dbe2c31de')],\n",
       " 'uncles': []})"
      ]
     },
     "execution_count": 422,
     "metadata": {},
     "output_type": "execute_result"
    }
   ],
   "source": [
    "# double check if the gasUsed was really our estimate\n",
    "w3.eth.getBlock(tx_receipt[\"blockNumber\"])"
   ]
  },
  {
   "cell_type": "markdown",
   "metadata": {},
   "source": [
    "### Interact with deployed contract"
   ]
  },
  {
   "cell_type": "markdown",
   "metadata": {},
   "source": [
    "To get an instance of a contract at its current state we require:\n",
    "* The contract address `caddress`\n",
    "* Some ABI information `cabi` either from compiling the contract like done previously or reconstructed through reverse engineering the bytecode stored in the blockchain.  "
   ]
  },
  {
   "cell_type": "code",
   "execution_count": 423,
   "metadata": {},
   "outputs": [],
   "source": [
    "instance = w3.eth.contract(address=caddress,\n",
    "                           abi=cabi)"
   ]
  },
  {
   "cell_type": "code",
   "execution_count": 424,
   "metadata": {},
   "outputs": [
    {
     "data": {
      "text/plain": [
       "'0x258c5Ca69030Ba1E9DaA1D43338b5def61DE4673'"
      ]
     },
     "execution_count": 424,
     "metadata": {},
     "output_type": "execute_result"
    }
   ],
   "source": [
    "instance.address"
   ]
  },
  {
   "cell_type": "code",
   "execution_count": 425,
   "metadata": {},
   "outputs": [
    {
     "data": {
      "text/plain": [
       "[{'constant': True,\n",
       "  'inputs': [],\n",
       "  'name': 'greetbit',\n",
       "  'outputs': [{'name': '', 'type': 'uint256'}],\n",
       "  'payable': False,\n",
       "  'stateMutability': 'view',\n",
       "  'type': 'function'},\n",
       " {'constant': False,\n",
       "  'inputs': [{'name': 'bit', 'type': 'uint256'}],\n",
       "  'name': 'setGreetbit',\n",
       "  'outputs': [],\n",
       "  'payable': False,\n",
       "  'stateMutability': 'nonpayable',\n",
       "  'type': 'function'},\n",
       " {'constant': False,\n",
       "  'inputs': [{'name': '_greeting', 'type': 'string'}],\n",
       "  'name': 'setGreeting',\n",
       "  'outputs': [],\n",
       "  'payable': False,\n",
       "  'stateMutability': 'nonpayable',\n",
       "  'type': 'function'},\n",
       " {'constant': True,\n",
       "  'inputs': [],\n",
       "  'name': 'greet',\n",
       "  'outputs': [{'name': '', 'type': 'string'}],\n",
       "  'payable': False,\n",
       "  'stateMutability': 'view',\n",
       "  'type': 'function'},\n",
       " {'constant': True,\n",
       "  'inputs': [],\n",
       "  'name': 'greeting',\n",
       "  'outputs': [{'name': '', 'type': 'string'}],\n",
       "  'payable': False,\n",
       "  'stateMutability': 'view',\n",
       "  'type': 'function'},\n",
       " {'inputs': [],\n",
       "  'payable': False,\n",
       "  'stateMutability': 'nonpayable',\n",
       "  'type': 'constructor'},\n",
       " {'payable': True, 'stateMutability': 'payable', 'type': 'fallback'}]"
      ]
     },
     "execution_count": 425,
     "metadata": {},
     "output_type": "execute_result"
    }
   ],
   "source": [
    "instance.abi"
   ]
  },
  {
   "cell_type": "code",
   "execution_count": 426,
   "metadata": {},
   "outputs": [
    {
     "data": {
      "text/plain": [
       "'Hello'"
      ]
     },
     "execution_count": 426,
     "metadata": {},
     "output_type": "execute_result"
    }
   ],
   "source": [
    "# view functions dont change state and can therefore be executed \n",
    "# without performing a transaction on the blockchain\n",
    "instance.functions.greet().call()"
   ]
  },
  {
   "cell_type": "code",
   "execution_count": 427,
   "metadata": {},
   "outputs": [
    {
     "data": {
      "text/plain": [
       "HexBytes('0xec6e441c330b123c9bf79b6d2a9c4d65f49f2751b3a716be353ccca6bab3f405')"
      ]
     },
     "execution_count": 427,
     "metadata": {},
     "output_type": "execute_result"
    }
   ],
   "source": [
    "tx_hash = instance.functions.setGreeting(\"Hello World!\").transact(\n",
    "    {\"from\":w3.eth.accounts[0]})\n",
    "tx_hash"
   ]
  },
  {
   "cell_type": "code",
   "execution_count": 428,
   "metadata": {},
   "outputs": [],
   "source": [
    "tx_receipt = w3.eth.waitForTransactionReceipt(tx_hash)"
   ]
  },
  {
   "cell_type": "code",
   "execution_count": 429,
   "metadata": {},
   "outputs": [
    {
     "data": {
      "text/plain": [
       "'Hello World!'"
      ]
     },
     "execution_count": 429,
     "metadata": {},
     "output_type": "execute_result"
    }
   ],
   "source": [
    "# lets check if the output is now different i.e., the value has changed \n",
    "instance.functions.greet().call()"
   ]
  },
  {
   "cell_type": "code",
   "execution_count": 430,
   "metadata": {
    "scrolled": true
   },
   "outputs": [
    {
     "data": {
      "text/plain": [
       "AttributeDict({'hash': HexBytes('0xec6e441c330b123c9bf79b6d2a9c4d65f49f2751b3a716be353ccca6bab3f405'),\n",
       " 'nonce': 60,\n",
       " 'blockHash': HexBytes('0x7befdd814ab8d84af96070fd2d1b1a0aad244320a77862be42744049ae45cb01'),\n",
       " 'blockNumber': 64,\n",
       " 'transactionIndex': 0,\n",
       " 'from': '0xa17FB6cC107693b92e45e49022a2854Ac0DeAf25',\n",
       " 'to': '0x258c5Ca69030Ba1E9DaA1D43338b5def61DE4673',\n",
       " 'value': 0,\n",
       " 'gas': 133560,\n",
       " 'gasPrice': 20000000000,\n",
       " 'input': '0xa41368620000000000000000000000000000000000000000000000000000000000000020000000000000000000000000000000000000000000000000000000000000000c48656c6c6f20576f726c64210000000000000000000000000000000000000000',\n",
       " 'v': 28,\n",
       " 'r': HexBytes('0xa7e7f2d6b42dd4389625b74e58f72ac6c18864c8905619fb1c8ac4574e02b043'),\n",
       " 's': HexBytes('0x6b4dd3f44661b7baffd492e7a3c7ce3d609779fad465c1c4d68443f21fb277ed')})"
      ]
     },
     "execution_count": 430,
     "metadata": {},
     "output_type": "execute_result"
    }
   ],
   "source": [
    "tx_info = w3.eth.getTransaction(tx_hash)\n",
    "tx_info"
   ]
  },
  {
   "cell_type": "code",
   "execution_count": 431,
   "metadata": {},
   "outputs": [
    {
     "name": "stdout",
     "output_type": "stream",
     "text": [
      "Hello World!\n"
     ]
    }
   ],
   "source": [
    "# lets decode the input data of the transaction\n",
    "input_data = bytes.fromhex(\"48656c6c6f20576f726c6421\").decode(\"utf-8\")\n",
    "print(input_data) # input data string"
   ]
  },
  {
   "cell_type": "code",
   "execution_count": 433,
   "metadata": {},
   "outputs": [
    {
     "data": {
      "text/plain": [
       "(<Function setGreeting(string)>, {'_greeting': 'Hello World!'})"
      ]
     },
     "execution_count": 433,
     "metadata": {},
     "output_type": "execute_result"
    }
   ],
   "source": [
    "# there is also a helper function that can do this\n",
    "instance.decode_function_input(tx_info.input)"
   ]
  },
  {
   "cell_type": "code",
   "execution_count": 444,
   "metadata": {},
   "outputs": [
    {
     "data": {
      "text/plain": [
       "HexBytes('0x48656c6c6f20576f726c64210000000000000000000000000000000000000018')"
      ]
     },
     "execution_count": 444,
     "metadata": {},
     "output_type": "execute_result"
    }
   ],
   "source": [
    "# There is also a way to directly access the storage of a contract\n",
    "w3.eth.getStorageAt(caddress,0)"
   ]
  },
  {
   "cell_type": "markdown",
   "metadata": {},
   "source": [
    "### Function signature / method id\n",
    "The four byte *function signature* or *method id* has to be specified at the beginning of the input data. It selects the function that is invoked with the respective arguments."
   ]
  },
  {
   "cell_type": "code",
   "execution_count": 398,
   "metadata": {},
   "outputs": [
    {
     "data": {
      "text/plain": [
       "4.0"
      ]
     },
     "execution_count": 398,
     "metadata": {},
     "output_type": "execute_result"
    }
   ],
   "source": [
    "# 4 byte function signature or method_id\n",
    "len(\"a4136862\")/2."
   ]
  },
  {
   "cell_type": "code",
   "execution_count": 399,
   "metadata": {},
   "outputs": [
    {
     "data": {
      "text/plain": [
       "'a4136862'"
      ]
     },
     "execution_count": 399,
     "metadata": {},
     "output_type": "execute_result"
    }
   ],
   "source": [
    "from sha3 import keccak_256\n",
    "sha3_hash = keccak_256(b\"setGreeting(string)\").hexdigest()\n",
    "method_id = sha3_hash[:8]\n",
    "method_id"
   ]
  },
  {
   "cell_type": "code",
   "execution_count": 447,
   "metadata": {},
   "outputs": [
    {
     "data": {
      "text/plain": [
       "1"
      ]
     },
     "execution_count": 447,
     "metadata": {},
     "output_type": "execute_result"
    }
   ],
   "source": [
    "instance.functions.greetbit().call()"
   ]
  },
  {
   "cell_type": "code",
   "execution_count": 401,
   "metadata": {},
   "outputs": [
    {
     "data": {
      "text/plain": [
       "HexBytes('0x7f27fc580c259da1476a64c29874b93c38f24d690285fc64e01c9fe43acaad93')"
      ]
     },
     "execution_count": 401,
     "metadata": {},
     "output_type": "execute_result"
    }
   ],
   "source": [
    "tx_hash = instance.functions.setGreetbit(1).transact(\n",
    "    {\"from\":w3.eth.accounts[0]})\n",
    "tx_hash"
   ]
  },
  {
   "cell_type": "code",
   "execution_count": 402,
   "metadata": {},
   "outputs": [
    {
     "data": {
      "text/plain": [
       "AttributeDict({'hash': HexBytes('0x7f27fc580c259da1476a64c29874b93c38f24d690285fc64e01c9fe43acaad93'),\n",
       " 'nonce': 29,\n",
       " 'blockHash': HexBytes('0xe9ec74932963cd6c5bee94d6ecba9d270984f8f252ca23bcdf5b3c8ffa3c1132'),\n",
       " 'blockNumber': 33,\n",
       " 'transactionIndex': 0,\n",
       " 'from': '0xa17FB6cC107693b92e45e49022a2854Ac0DeAf25',\n",
       " 'to': '0x19684B37DfB6BB93cf535D8B28CE53f931F65576',\n",
       " 'value': 0,\n",
       " 'gas': 141691,\n",
       " 'gasPrice': 20000000000,\n",
       " 'input': '0x4f11dbea0000000000000000000000000000000000000000000000000000000000000001',\n",
       " 'v': 28,\n",
       " 'r': HexBytes('0x1b31e40419fca3c5e824c384fe1e3680b9fb95b99bb222b8835f004f78e38c73'),\n",
       " 's': HexBytes('0x55ee183d1f1aabad7cf354cfafbd3b74f967e79b9e2c5bd74c5a2911757e5770')})"
      ]
     },
     "execution_count": 402,
     "metadata": {},
     "output_type": "execute_result"
    }
   ],
   "source": [
    "tx_info = w3.eth.getTransaction(tx_hash)\n",
    "tx_info"
   ]
  },
  {
   "cell_type": "code",
   "execution_count": 403,
   "metadata": {},
   "outputs": [
    {
     "data": {
      "text/plain": [
       "'4f11dbea'"
      ]
     },
     "execution_count": 403,
     "metadata": {},
     "output_type": "execute_result"
    }
   ],
   "source": [
    "from sha3 import keccak_256\n",
    "sha3_hash = keccak_256(b\"setGreetbit(uint256)\").hexdigest()\n",
    "method_id = sha3_hash[:8]\n",
    "method_id"
   ]
  },
  {
   "cell_type": "code",
   "execution_count": 404,
   "metadata": {},
   "outputs": [
    {
     "data": {
      "text/plain": [
       "256.0"
      ]
     },
     "execution_count": 404,
     "metadata": {},
     "output_type": "execute_result"
    }
   ],
   "source": [
    "len(\"0000000000000000000000000000000000000000000000000000000000000001\")/2 * 8"
   ]
  },
  {
   "cell_type": "markdown",
   "metadata": {},
   "source": [
    "You can also manually send a transaction, this should work with `geth`"
   ]
  },
  {
   "cell_type": "code",
   "execution_count": 448,
   "metadata": {},
   "outputs": [
    {
     "data": {
      "text/plain": [
       "HexBytes('0xf83f74e45f1319d3c62e3da3273f40ad97c2af827cef23e3e6a8e82cc1b122a9')"
      ]
     },
     "execution_count": 448,
     "metadata": {},
     "output_type": "execute_result"
    }
   ],
   "source": [
    "# This should be possible with geth but is not with web3py:\n",
    "cdata = b\"0x4f11dbea0000000000000000000000000000000000000000000000000000000000000000\"\n",
    "tx_hash = w3.eth.sendTransaction({\"from\":w3.eth.accounts[0],\"to\":caddress,\"data\":cdata,\"value\":0,\"gas\":1_000_000})\n",
    "tx_hash"
   ]
  },
  {
   "cell_type": "code",
   "execution_count": 449,
   "metadata": {},
   "outputs": [
    {
     "data": {
      "text/plain": [
       "0"
      ]
     },
     "execution_count": 449,
     "metadata": {},
     "output_type": "execute_result"
    }
   ],
   "source": [
    "instance.functions.greetbit().call()"
   ]
  },
  {
   "cell_type": "markdown",
   "metadata": {},
   "source": [
    "You can also use the `getData()` method in the `geth` REPL console to construct the `input` data hex string. "
   ]
  },
  {
   "cell_type": "code",
   "execution_count": 406,
   "metadata": {},
   "outputs": [
    {
     "data": {
      "text/plain": [
       "{'id': 270,\n",
       " 'jsonrpc': '2.0',\n",
       " 'result': {'gas': 41691,\n",
       "  'returnValue': '',\n",
       "  'structLogs': [{'depth': 0,\n",
       "    'error': '',\n",
       "    'gas': 120227,\n",
       "    'gasCost': 21464,\n",
       "    'memory': [],\n",
       "    'op': 'PUSH1',\n",
       "    'pc': 0,\n",
       "    'stack': [],\n",
       "    'storage': {}},\n",
       "   {'depth': 0,\n",
       "    'error': '',\n",
       "    'gas': 120224,\n",
       "    'gasCost': 3,\n",
       "    'memory': [],\n",
       "    'op': 'PUSH1',\n",
       "    'pc': 2,\n",
       "    'stack': ['0000000000000000000000000000000000000000000000000000000000000080'],\n",
       "    'storage': {}},\n",
       "   {'depth': 0,\n",
       "    'error': '',\n",
       "    'gas': 120221,\n",
       "    'gasCost': 3,\n",
       "    'memory': [],\n",
       "    'op': 'MSTORE',\n",
       "    'pc': 4,\n",
       "    'stack': ['0000000000000000000000000000000000000000000000000000000000000080',\n",
       "     '0000000000000000000000000000000000000000000000000000000000000040'],\n",
       "    'storage': {}},\n",
       "   {'depth': 0,\n",
       "    'error': '',\n",
       "    'gas': 120209,\n",
       "    'gasCost': 12,\n",
       "    'memory': ['0000000000000000000000000000000000000000000000000000000000000000',\n",
       "     '0000000000000000000000000000000000000000000000000000000000000000',\n",
       "     '0000000000000000000000000000000000000000000000000000000000000080'],\n",
       "    'op': 'PUSH1',\n",
       "    'pc': 5,\n",
       "    'stack': [],\n",
       "    'storage': {}},\n",
       "   {'depth': 0,\n",
       "    'error': '',\n",
       "    'gas': 120206,\n",
       "    'gasCost': 3,\n",
       "    'memory': ['0000000000000000000000000000000000000000000000000000000000000000',\n",
       "     '0000000000000000000000000000000000000000000000000000000000000000',\n",
       "     '0000000000000000000000000000000000000000000000000000000000000080'],\n",
       "    'op': 'CALLDATASIZE',\n",
       "    'pc': 7,\n",
       "    'stack': ['0000000000000000000000000000000000000000000000000000000000000004'],\n",
       "    'storage': {}},\n",
       "   {'depth': 0,\n",
       "    'error': '',\n",
       "    'gas': 120204,\n",
       "    'gasCost': 2,\n",
       "    'memory': ['0000000000000000000000000000000000000000000000000000000000000000',\n",
       "     '0000000000000000000000000000000000000000000000000000000000000000',\n",
       "     '0000000000000000000000000000000000000000000000000000000000000080'],\n",
       "    'op': 'LT',\n",
       "    'pc': 8,\n",
       "    'stack': ['0000000000000000000000000000000000000000000000000000000000000004',\n",
       "     '0000000000000000000000000000000000000000000000000000000000000024'],\n",
       "    'storage': {}},\n",
       "   {'depth': 0,\n",
       "    'error': '',\n",
       "    'gas': 120201,\n",
       "    'gasCost': 3,\n",
       "    'memory': ['0000000000000000000000000000000000000000000000000000000000000000',\n",
       "     '0000000000000000000000000000000000000000000000000000000000000000',\n",
       "     '0000000000000000000000000000000000000000000000000000000000000080'],\n",
       "    'op': 'PUSH2',\n",
       "    'pc': 9,\n",
       "    'stack': ['0000000000000000000000000000000000000000000000000000000000000000'],\n",
       "    'storage': {}},\n",
       "   {'depth': 0,\n",
       "    'error': '',\n",
       "    'gas': 120198,\n",
       "    'gasCost': 3,\n",
       "    'memory': ['0000000000000000000000000000000000000000000000000000000000000000',\n",
       "     '0000000000000000000000000000000000000000000000000000000000000000',\n",
       "     '0000000000000000000000000000000000000000000000000000000000000080'],\n",
       "    'op': 'JUMPI',\n",
       "    'pc': 12,\n",
       "    'stack': ['0000000000000000000000000000000000000000000000000000000000000000',\n",
       "     '000000000000000000000000000000000000000000000000000000000000006d'],\n",
       "    'storage': {}},\n",
       "   {'depth': 0,\n",
       "    'error': '',\n",
       "    'gas': 120188,\n",
       "    'gasCost': 10,\n",
       "    'memory': ['0000000000000000000000000000000000000000000000000000000000000000',\n",
       "     '0000000000000000000000000000000000000000000000000000000000000000',\n",
       "     '0000000000000000000000000000000000000000000000000000000000000080'],\n",
       "    'op': 'PUSH1',\n",
       "    'pc': 13,\n",
       "    'stack': [],\n",
       "    'storage': {}},\n",
       "   {'depth': 0,\n",
       "    'error': '',\n",
       "    'gas': 120185,\n",
       "    'gasCost': 3,\n",
       "    'memory': ['0000000000000000000000000000000000000000000000000000000000000000',\n",
       "     '0000000000000000000000000000000000000000000000000000000000000000',\n",
       "     '0000000000000000000000000000000000000000000000000000000000000080'],\n",
       "    'op': 'CALLDATALOAD',\n",
       "    'pc': 15,\n",
       "    'stack': ['0000000000000000000000000000000000000000000000000000000000000000'],\n",
       "    'storage': {}},\n",
       "   {'depth': 0,\n",
       "    'error': '',\n",
       "    'gas': 120182,\n",
       "    'gasCost': 3,\n",
       "    'memory': ['0000000000000000000000000000000000000000000000000000000000000000',\n",
       "     '0000000000000000000000000000000000000000000000000000000000000000',\n",
       "     '0000000000000000000000000000000000000000000000000000000000000080'],\n",
       "    'op': 'PUSH29',\n",
       "    'pc': 16,\n",
       "    'stack': ['4f11dbea00000000000000000000000000000000000000000000000000000000'],\n",
       "    'storage': {}},\n",
       "   {'depth': 0,\n",
       "    'error': '',\n",
       "    'gas': 120179,\n",
       "    'gasCost': 3,\n",
       "    'memory': ['0000000000000000000000000000000000000000000000000000000000000000',\n",
       "     '0000000000000000000000000000000000000000000000000000000000000000',\n",
       "     '0000000000000000000000000000000000000000000000000000000000000080'],\n",
       "    'op': 'SWAP1',\n",
       "    'pc': 46,\n",
       "    'stack': ['4f11dbea00000000000000000000000000000000000000000000000000000000',\n",
       "     '0000000100000000000000000000000000000000000000000000000000000000'],\n",
       "    'storage': {}},\n",
       "   {'depth': 0,\n",
       "    'error': '',\n",
       "    'gas': 120176,\n",
       "    'gasCost': 3,\n",
       "    'memory': ['0000000000000000000000000000000000000000000000000000000000000000',\n",
       "     '0000000000000000000000000000000000000000000000000000000000000000',\n",
       "     '0000000000000000000000000000000000000000000000000000000000000080'],\n",
       "    'op': 'DIV',\n",
       "    'pc': 47,\n",
       "    'stack': ['0000000100000000000000000000000000000000000000000000000000000000',\n",
       "     '4f11dbea00000000000000000000000000000000000000000000000000000000'],\n",
       "    'storage': {}},\n",
       "   {'depth': 0,\n",
       "    'error': '',\n",
       "    'gas': 120171,\n",
       "    'gasCost': 5,\n",
       "    'memory': ['0000000000000000000000000000000000000000000000000000000000000000',\n",
       "     '0000000000000000000000000000000000000000000000000000000000000000',\n",
       "     '0000000000000000000000000000000000000000000000000000000000000080'],\n",
       "    'op': 'PUSH4',\n",
       "    'pc': 48,\n",
       "    'stack': ['000000000000000000000000000000000000000000000000000000004f11dbea'],\n",
       "    'storage': {}},\n",
       "   {'depth': 0,\n",
       "    'error': '',\n",
       "    'gas': 120168,\n",
       "    'gasCost': 3,\n",
       "    'memory': ['0000000000000000000000000000000000000000000000000000000000000000',\n",
       "     '0000000000000000000000000000000000000000000000000000000000000000',\n",
       "     '0000000000000000000000000000000000000000000000000000000000000080'],\n",
       "    'op': 'AND',\n",
       "    'pc': 53,\n",
       "    'stack': ['000000000000000000000000000000000000000000000000000000004f11dbea',\n",
       "     '00000000000000000000000000000000000000000000000000000000ffffffff'],\n",
       "    'storage': {}},\n",
       "   {'depth': 0,\n",
       "    'error': '',\n",
       "    'gas': 120165,\n",
       "    'gasCost': 3,\n",
       "    'memory': ['0000000000000000000000000000000000000000000000000000000000000000',\n",
       "     '0000000000000000000000000000000000000000000000000000000000000000',\n",
       "     '0000000000000000000000000000000000000000000000000000000000000080'],\n",
       "    'op': 'DUP1',\n",
       "    'pc': 54,\n",
       "    'stack': ['000000000000000000000000000000000000000000000000000000004f11dbea'],\n",
       "    'storage': {}},\n",
       "   {'depth': 0,\n",
       "    'error': '',\n",
       "    'gas': 120162,\n",
       "    'gasCost': 3,\n",
       "    'memory': ['0000000000000000000000000000000000000000000000000000000000000000',\n",
       "     '0000000000000000000000000000000000000000000000000000000000000000',\n",
       "     '0000000000000000000000000000000000000000000000000000000000000080'],\n",
       "    'op': 'PUSH4',\n",
       "    'pc': 55,\n",
       "    'stack': ['000000000000000000000000000000000000000000000000000000004f11dbea',\n",
       "     '000000000000000000000000000000000000000000000000000000004f11dbea'],\n",
       "    'storage': {}},\n",
       "   {'depth': 0,\n",
       "    'error': '',\n",
       "    'gas': 120159,\n",
       "    'gasCost': 3,\n",
       "    'memory': ['0000000000000000000000000000000000000000000000000000000000000000',\n",
       "     '0000000000000000000000000000000000000000000000000000000000000000',\n",
       "     '0000000000000000000000000000000000000000000000000000000000000080'],\n",
       "    'op': 'EQ',\n",
       "    'pc': 60,\n",
       "    'stack': ['000000000000000000000000000000000000000000000000000000004f11dbea',\n",
       "     '000000000000000000000000000000000000000000000000000000004f11dbea',\n",
       "     '000000000000000000000000000000000000000000000000000000001c55ad30'],\n",
       "    'storage': {}},\n",
       "   {'depth': 0,\n",
       "    'error': '',\n",
       "    'gas': 120156,\n",
       "    'gasCost': 3,\n",
       "    'memory': ['0000000000000000000000000000000000000000000000000000000000000000',\n",
       "     '0000000000000000000000000000000000000000000000000000000000000000',\n",
       "     '0000000000000000000000000000000000000000000000000000000000000080'],\n",
       "    'op': 'PUSH2',\n",
       "    'pc': 61,\n",
       "    'stack': ['000000000000000000000000000000000000000000000000000000004f11dbea',\n",
       "     '0000000000000000000000000000000000000000000000000000000000000000'],\n",
       "    'storage': {}},\n",
       "   {'depth': 0,\n",
       "    'error': '',\n",
       "    'gas': 120153,\n",
       "    'gasCost': 3,\n",
       "    'memory': ['0000000000000000000000000000000000000000000000000000000000000000',\n",
       "     '0000000000000000000000000000000000000000000000000000000000000000',\n",
       "     '0000000000000000000000000000000000000000000000000000000000000080'],\n",
       "    'op': 'JUMPI',\n",
       "    'pc': 64,\n",
       "    'stack': ['000000000000000000000000000000000000000000000000000000004f11dbea',\n",
       "     '0000000000000000000000000000000000000000000000000000000000000000',\n",
       "     '000000000000000000000000000000000000000000000000000000000000007a'],\n",
       "    'storage': {}},\n",
       "   {'depth': 0,\n",
       "    'error': '',\n",
       "    'gas': 120143,\n",
       "    'gasCost': 10,\n",
       "    'memory': ['0000000000000000000000000000000000000000000000000000000000000000',\n",
       "     '0000000000000000000000000000000000000000000000000000000000000000',\n",
       "     '0000000000000000000000000000000000000000000000000000000000000080'],\n",
       "    'op': 'DUP1',\n",
       "    'pc': 65,\n",
       "    'stack': ['000000000000000000000000000000000000000000000000000000004f11dbea'],\n",
       "    'storage': {}},\n",
       "   {'depth': 0,\n",
       "    'error': '',\n",
       "    'gas': 120140,\n",
       "    'gasCost': 3,\n",
       "    'memory': ['0000000000000000000000000000000000000000000000000000000000000000',\n",
       "     '0000000000000000000000000000000000000000000000000000000000000000',\n",
       "     '0000000000000000000000000000000000000000000000000000000000000080'],\n",
       "    'op': 'PUSH4',\n",
       "    'pc': 66,\n",
       "    'stack': ['000000000000000000000000000000000000000000000000000000004f11dbea',\n",
       "     '000000000000000000000000000000000000000000000000000000004f11dbea'],\n",
       "    'storage': {}},\n",
       "   {'depth': 0,\n",
       "    'error': '',\n",
       "    'gas': 120137,\n",
       "    'gasCost': 3,\n",
       "    'memory': ['0000000000000000000000000000000000000000000000000000000000000000',\n",
       "     '0000000000000000000000000000000000000000000000000000000000000000',\n",
       "     '0000000000000000000000000000000000000000000000000000000000000080'],\n",
       "    'op': 'EQ',\n",
       "    'pc': 71,\n",
       "    'stack': ['000000000000000000000000000000000000000000000000000000004f11dbea',\n",
       "     '000000000000000000000000000000000000000000000000000000004f11dbea',\n",
       "     '000000000000000000000000000000000000000000000000000000004f11dbea'],\n",
       "    'storage': {}},\n",
       "   {'depth': 0,\n",
       "    'error': '',\n",
       "    'gas': 120134,\n",
       "    'gasCost': 3,\n",
       "    'memory': ['0000000000000000000000000000000000000000000000000000000000000000',\n",
       "     '0000000000000000000000000000000000000000000000000000000000000000',\n",
       "     '0000000000000000000000000000000000000000000000000000000000000080'],\n",
       "    'op': 'PUSH2',\n",
       "    'pc': 72,\n",
       "    'stack': ['000000000000000000000000000000000000000000000000000000004f11dbea',\n",
       "     '0000000000000000000000000000000000000000000000000000000000000001'],\n",
       "    'storage': {}},\n",
       "   {'depth': 0,\n",
       "    'error': '',\n",
       "    'gas': 120131,\n",
       "    'gasCost': 3,\n",
       "    'memory': ['0000000000000000000000000000000000000000000000000000000000000000',\n",
       "     '0000000000000000000000000000000000000000000000000000000000000000',\n",
       "     '0000000000000000000000000000000000000000000000000000000000000080'],\n",
       "    'op': 'JUMPI',\n",
       "    'pc': 75,\n",
       "    'stack': ['000000000000000000000000000000000000000000000000000000004f11dbea',\n",
       "     '0000000000000000000000000000000000000000000000000000000000000001',\n",
       "     '00000000000000000000000000000000000000000000000000000000000000a5'],\n",
       "    'storage': {}},\n",
       "   {'depth': 0,\n",
       "    'error': '',\n",
       "    'gas': 120121,\n",
       "    'gasCost': 10,\n",
       "    'memory': ['0000000000000000000000000000000000000000000000000000000000000000',\n",
       "     '0000000000000000000000000000000000000000000000000000000000000000',\n",
       "     '0000000000000000000000000000000000000000000000000000000000000080'],\n",
       "    'op': 'JUMPDEST',\n",
       "    'pc': 165,\n",
       "    'stack': ['000000000000000000000000000000000000000000000000000000004f11dbea'],\n",
       "    'storage': {}},\n",
       "   {'depth': 0,\n",
       "    'error': '',\n",
       "    'gas': 120120,\n",
       "    'gasCost': 1,\n",
       "    'memory': ['0000000000000000000000000000000000000000000000000000000000000000',\n",
       "     '0000000000000000000000000000000000000000000000000000000000000000',\n",
       "     '0000000000000000000000000000000000000000000000000000000000000080'],\n",
       "    'op': 'CALLVALUE',\n",
       "    'pc': 166,\n",
       "    'stack': ['000000000000000000000000000000000000000000000000000000004f11dbea'],\n",
       "    'storage': {}},\n",
       "   {'depth': 0,\n",
       "    'error': '',\n",
       "    'gas': 120118,\n",
       "    'gasCost': 2,\n",
       "    'memory': ['0000000000000000000000000000000000000000000000000000000000000000',\n",
       "     '0000000000000000000000000000000000000000000000000000000000000000',\n",
       "     '0000000000000000000000000000000000000000000000000000000000000080'],\n",
       "    'op': 'DUP1',\n",
       "    'pc': 167,\n",
       "    'stack': ['000000000000000000000000000000000000000000000000000000004f11dbea',\n",
       "     '0000000000000000000000000000000000000000000000000000000000000000'],\n",
       "    'storage': {}},\n",
       "   {'depth': 0,\n",
       "    'error': '',\n",
       "    'gas': 120115,\n",
       "    'gasCost': 3,\n",
       "    'memory': ['0000000000000000000000000000000000000000000000000000000000000000',\n",
       "     '0000000000000000000000000000000000000000000000000000000000000000',\n",
       "     '0000000000000000000000000000000000000000000000000000000000000080'],\n",
       "    'op': 'ISZERO',\n",
       "    'pc': 168,\n",
       "    'stack': ['000000000000000000000000000000000000000000000000000000004f11dbea',\n",
       "     '0000000000000000000000000000000000000000000000000000000000000000',\n",
       "     '0000000000000000000000000000000000000000000000000000000000000000'],\n",
       "    'storage': {}},\n",
       "   {'depth': 0,\n",
       "    'error': '',\n",
       "    'gas': 120112,\n",
       "    'gasCost': 3,\n",
       "    'memory': ['0000000000000000000000000000000000000000000000000000000000000000',\n",
       "     '0000000000000000000000000000000000000000000000000000000000000000',\n",
       "     '0000000000000000000000000000000000000000000000000000000000000080'],\n",
       "    'op': 'PUSH2',\n",
       "    'pc': 169,\n",
       "    'stack': ['000000000000000000000000000000000000000000000000000000004f11dbea',\n",
       "     '0000000000000000000000000000000000000000000000000000000000000000',\n",
       "     '0000000000000000000000000000000000000000000000000000000000000001'],\n",
       "    'storage': {}},\n",
       "   {'depth': 0,\n",
       "    'error': '',\n",
       "    'gas': 120109,\n",
       "    'gasCost': 3,\n",
       "    'memory': ['0000000000000000000000000000000000000000000000000000000000000000',\n",
       "     '0000000000000000000000000000000000000000000000000000000000000000',\n",
       "     '0000000000000000000000000000000000000000000000000000000000000080'],\n",
       "    'op': 'JUMPI',\n",
       "    'pc': 172,\n",
       "    'stack': ['000000000000000000000000000000000000000000000000000000004f11dbea',\n",
       "     '0000000000000000000000000000000000000000000000000000000000000000',\n",
       "     '0000000000000000000000000000000000000000000000000000000000000001',\n",
       "     '00000000000000000000000000000000000000000000000000000000000000b1'],\n",
       "    'storage': {}},\n",
       "   {'depth': 0,\n",
       "    'error': '',\n",
       "    'gas': 120099,\n",
       "    'gasCost': 10,\n",
       "    'memory': ['0000000000000000000000000000000000000000000000000000000000000000',\n",
       "     '0000000000000000000000000000000000000000000000000000000000000000',\n",
       "     '0000000000000000000000000000000000000000000000000000000000000080'],\n",
       "    'op': 'JUMPDEST',\n",
       "    'pc': 177,\n",
       "    'stack': ['000000000000000000000000000000000000000000000000000000004f11dbea',\n",
       "     '0000000000000000000000000000000000000000000000000000000000000000'],\n",
       "    'storage': {}},\n",
       "   {'depth': 0,\n",
       "    'error': '',\n",
       "    'gas': 120098,\n",
       "    'gasCost': 1,\n",
       "    'memory': ['0000000000000000000000000000000000000000000000000000000000000000',\n",
       "     '0000000000000000000000000000000000000000000000000000000000000000',\n",
       "     '0000000000000000000000000000000000000000000000000000000000000080'],\n",
       "    'op': 'POP',\n",
       "    'pc': 178,\n",
       "    'stack': ['000000000000000000000000000000000000000000000000000000004f11dbea',\n",
       "     '0000000000000000000000000000000000000000000000000000000000000000'],\n",
       "    'storage': {}},\n",
       "   {'depth': 0,\n",
       "    'error': '',\n",
       "    'gas': 120096,\n",
       "    'gasCost': 2,\n",
       "    'memory': ['0000000000000000000000000000000000000000000000000000000000000000',\n",
       "     '0000000000000000000000000000000000000000000000000000000000000000',\n",
       "     '0000000000000000000000000000000000000000000000000000000000000080'],\n",
       "    'op': 'PUSH2',\n",
       "    'pc': 179,\n",
       "    'stack': ['000000000000000000000000000000000000000000000000000000004f11dbea'],\n",
       "    'storage': {}},\n",
       "   {'depth': 0,\n",
       "    'error': '',\n",
       "    'gas': 120093,\n",
       "    'gasCost': 3,\n",
       "    'memory': ['0000000000000000000000000000000000000000000000000000000000000000',\n",
       "     '0000000000000000000000000000000000000000000000000000000000000000',\n",
       "     '0000000000000000000000000000000000000000000000000000000000000080'],\n",
       "    'op': 'PUSH1',\n",
       "    'pc': 182,\n",
       "    'stack': ['000000000000000000000000000000000000000000000000000000004f11dbea',\n",
       "     '00000000000000000000000000000000000000000000000000000000000000d0'],\n",
       "    'storage': {}},\n",
       "   {'depth': 0,\n",
       "    'error': '',\n",
       "    'gas': 120090,\n",
       "    'gasCost': 3,\n",
       "    'memory': ['0000000000000000000000000000000000000000000000000000000000000000',\n",
       "     '0000000000000000000000000000000000000000000000000000000000000000',\n",
       "     '0000000000000000000000000000000000000000000000000000000000000080'],\n",
       "    'op': 'DUP1',\n",
       "    'pc': 184,\n",
       "    'stack': ['000000000000000000000000000000000000000000000000000000004f11dbea',\n",
       "     '00000000000000000000000000000000000000000000000000000000000000d0',\n",
       "     '0000000000000000000000000000000000000000000000000000000000000004'],\n",
       "    'storage': {}},\n",
       "   {'depth': 0,\n",
       "    'error': '',\n",
       "    'gas': 120087,\n",
       "    'gasCost': 3,\n",
       "    'memory': ['0000000000000000000000000000000000000000000000000000000000000000',\n",
       "     '0000000000000000000000000000000000000000000000000000000000000000',\n",
       "     '0000000000000000000000000000000000000000000000000000000000000080'],\n",
       "    'op': 'CALLDATASIZE',\n",
       "    'pc': 185,\n",
       "    'stack': ['000000000000000000000000000000000000000000000000000000004f11dbea',\n",
       "     '00000000000000000000000000000000000000000000000000000000000000d0',\n",
       "     '0000000000000000000000000000000000000000000000000000000000000004',\n",
       "     '0000000000000000000000000000000000000000000000000000000000000004'],\n",
       "    'storage': {}},\n",
       "   {'depth': 0,\n",
       "    'error': '',\n",
       "    'gas': 120085,\n",
       "    'gasCost': 2,\n",
       "    'memory': ['0000000000000000000000000000000000000000000000000000000000000000',\n",
       "     '0000000000000000000000000000000000000000000000000000000000000000',\n",
       "     '0000000000000000000000000000000000000000000000000000000000000080'],\n",
       "    'op': 'SUB',\n",
       "    'pc': 186,\n",
       "    'stack': ['000000000000000000000000000000000000000000000000000000004f11dbea',\n",
       "     '00000000000000000000000000000000000000000000000000000000000000d0',\n",
       "     '0000000000000000000000000000000000000000000000000000000000000004',\n",
       "     '0000000000000000000000000000000000000000000000000000000000000004',\n",
       "     '0000000000000000000000000000000000000000000000000000000000000024'],\n",
       "    'storage': {}},\n",
       "   {'depth': 0,\n",
       "    'error': '',\n",
       "    'gas': 120082,\n",
       "    'gasCost': 3,\n",
       "    'memory': ['0000000000000000000000000000000000000000000000000000000000000000',\n",
       "     '0000000000000000000000000000000000000000000000000000000000000000',\n",
       "     '0000000000000000000000000000000000000000000000000000000000000080'],\n",
       "    'op': 'DUP2',\n",
       "    'pc': 187,\n",
       "    'stack': ['000000000000000000000000000000000000000000000000000000004f11dbea',\n",
       "     '00000000000000000000000000000000000000000000000000000000000000d0',\n",
       "     '0000000000000000000000000000000000000000000000000000000000000004',\n",
       "     '0000000000000000000000000000000000000000000000000000000000000020'],\n",
       "    'storage': {}},\n",
       "   {'depth': 0,\n",
       "    'error': '',\n",
       "    'gas': 120079,\n",
       "    'gasCost': 3,\n",
       "    'memory': ['0000000000000000000000000000000000000000000000000000000000000000',\n",
       "     '0000000000000000000000000000000000000000000000000000000000000000',\n",
       "     '0000000000000000000000000000000000000000000000000000000000000080'],\n",
       "    'op': 'ADD',\n",
       "    'pc': 188,\n",
       "    'stack': ['000000000000000000000000000000000000000000000000000000004f11dbea',\n",
       "     '00000000000000000000000000000000000000000000000000000000000000d0',\n",
       "     '0000000000000000000000000000000000000000000000000000000000000004',\n",
       "     '0000000000000000000000000000000000000000000000000000000000000020',\n",
       "     '0000000000000000000000000000000000000000000000000000000000000004'],\n",
       "    'storage': {}},\n",
       "   {'depth': 0,\n",
       "    'error': '',\n",
       "    'gas': 120076,\n",
       "    'gasCost': 3,\n",
       "    'memory': ['0000000000000000000000000000000000000000000000000000000000000000',\n",
       "     '0000000000000000000000000000000000000000000000000000000000000000',\n",
       "     '0000000000000000000000000000000000000000000000000000000000000080'],\n",
       "    'op': 'SWAP1',\n",
       "    'pc': 189,\n",
       "    'stack': ['000000000000000000000000000000000000000000000000000000004f11dbea',\n",
       "     '00000000000000000000000000000000000000000000000000000000000000d0',\n",
       "     '0000000000000000000000000000000000000000000000000000000000000004',\n",
       "     '0000000000000000000000000000000000000000000000000000000000000024'],\n",
       "    'storage': {}},\n",
       "   {'depth': 0,\n",
       "    'error': '',\n",
       "    'gas': 120073,\n",
       "    'gasCost': 3,\n",
       "    'memory': ['0000000000000000000000000000000000000000000000000000000000000000',\n",
       "     '0000000000000000000000000000000000000000000000000000000000000000',\n",
       "     '0000000000000000000000000000000000000000000000000000000000000080'],\n",
       "    'op': 'DUP1',\n",
       "    'pc': 190,\n",
       "    'stack': ['000000000000000000000000000000000000000000000000000000004f11dbea',\n",
       "     '00000000000000000000000000000000000000000000000000000000000000d0',\n",
       "     '0000000000000000000000000000000000000000000000000000000000000024',\n",
       "     '0000000000000000000000000000000000000000000000000000000000000004'],\n",
       "    'storage': {}},\n",
       "   {'depth': 0,\n",
       "    'error': '',\n",
       "    'gas': 120070,\n",
       "    'gasCost': 3,\n",
       "    'memory': ['0000000000000000000000000000000000000000000000000000000000000000',\n",
       "     '0000000000000000000000000000000000000000000000000000000000000000',\n",
       "     '0000000000000000000000000000000000000000000000000000000000000080'],\n",
       "    'op': 'DUP1',\n",
       "    'pc': 191,\n",
       "    'stack': ['000000000000000000000000000000000000000000000000000000004f11dbea',\n",
       "     '00000000000000000000000000000000000000000000000000000000000000d0',\n",
       "     '0000000000000000000000000000000000000000000000000000000000000024',\n",
       "     '0000000000000000000000000000000000000000000000000000000000000004',\n",
       "     '0000000000000000000000000000000000000000000000000000000000000004'],\n",
       "    'storage': {}},\n",
       "   {'depth': 0,\n",
       "    'error': '',\n",
       "    'gas': 120067,\n",
       "    'gasCost': 3,\n",
       "    'memory': ['0000000000000000000000000000000000000000000000000000000000000000',\n",
       "     '0000000000000000000000000000000000000000000000000000000000000000',\n",
       "     '0000000000000000000000000000000000000000000000000000000000000080'],\n",
       "    'op': 'CALLDATALOAD',\n",
       "    'pc': 192,\n",
       "    'stack': ['000000000000000000000000000000000000000000000000000000004f11dbea',\n",
       "     '00000000000000000000000000000000000000000000000000000000000000d0',\n",
       "     '0000000000000000000000000000000000000000000000000000000000000024',\n",
       "     '0000000000000000000000000000000000000000000000000000000000000004',\n",
       "     '0000000000000000000000000000000000000000000000000000000000000004',\n",
       "     '0000000000000000000000000000000000000000000000000000000000000004'],\n",
       "    'storage': {}},\n",
       "   {'depth': 0,\n",
       "    'error': '',\n",
       "    'gas': 120064,\n",
       "    'gasCost': 3,\n",
       "    'memory': ['0000000000000000000000000000000000000000000000000000000000000000',\n",
       "     '0000000000000000000000000000000000000000000000000000000000000000',\n",
       "     '0000000000000000000000000000000000000000000000000000000000000080'],\n",
       "    'op': 'SWAP1',\n",
       "    'pc': 193,\n",
       "    'stack': ['000000000000000000000000000000000000000000000000000000004f11dbea',\n",
       "     '00000000000000000000000000000000000000000000000000000000000000d0',\n",
       "     '0000000000000000000000000000000000000000000000000000000000000024',\n",
       "     '0000000000000000000000000000000000000000000000000000000000000004',\n",
       "     '0000000000000000000000000000000000000000000000000000000000000004',\n",
       "     '0000000000000000000000000000000000000000000000000000000000000001'],\n",
       "    'storage': {}},\n",
       "   {'depth': 0,\n",
       "    'error': '',\n",
       "    'gas': 120061,\n",
       "    'gasCost': 3,\n",
       "    'memory': ['0000000000000000000000000000000000000000000000000000000000000000',\n",
       "     '0000000000000000000000000000000000000000000000000000000000000000',\n",
       "     '0000000000000000000000000000000000000000000000000000000000000080'],\n",
       "    'op': 'PUSH1',\n",
       "    'pc': 194,\n",
       "    'stack': ['000000000000000000000000000000000000000000000000000000004f11dbea',\n",
       "     '00000000000000000000000000000000000000000000000000000000000000d0',\n",
       "     '0000000000000000000000000000000000000000000000000000000000000024',\n",
       "     '0000000000000000000000000000000000000000000000000000000000000004',\n",
       "     '0000000000000000000000000000000000000000000000000000000000000001',\n",
       "     '0000000000000000000000000000000000000000000000000000000000000004'],\n",
       "    'storage': {}},\n",
       "   {'depth': 0,\n",
       "    'error': '',\n",
       "    'gas': 120058,\n",
       "    'gasCost': 3,\n",
       "    'memory': ['0000000000000000000000000000000000000000000000000000000000000000',\n",
       "     '0000000000000000000000000000000000000000000000000000000000000000',\n",
       "     '0000000000000000000000000000000000000000000000000000000000000080'],\n",
       "    'op': 'ADD',\n",
       "    'pc': 196,\n",
       "    'stack': ['000000000000000000000000000000000000000000000000000000004f11dbea',\n",
       "     '00000000000000000000000000000000000000000000000000000000000000d0',\n",
       "     '0000000000000000000000000000000000000000000000000000000000000024',\n",
       "     '0000000000000000000000000000000000000000000000000000000000000004',\n",
       "     '0000000000000000000000000000000000000000000000000000000000000001',\n",
       "     '0000000000000000000000000000000000000000000000000000000000000004',\n",
       "     '0000000000000000000000000000000000000000000000000000000000000020'],\n",
       "    'storage': {}},\n",
       "   {'depth': 0,\n",
       "    'error': '',\n",
       "    'gas': 120055,\n",
       "    'gasCost': 3,\n",
       "    'memory': ['0000000000000000000000000000000000000000000000000000000000000000',\n",
       "     '0000000000000000000000000000000000000000000000000000000000000000',\n",
       "     '0000000000000000000000000000000000000000000000000000000000000080'],\n",
       "    'op': 'SWAP1',\n",
       "    'pc': 197,\n",
       "    'stack': ['000000000000000000000000000000000000000000000000000000004f11dbea',\n",
       "     '00000000000000000000000000000000000000000000000000000000000000d0',\n",
       "     '0000000000000000000000000000000000000000000000000000000000000024',\n",
       "     '0000000000000000000000000000000000000000000000000000000000000004',\n",
       "     '0000000000000000000000000000000000000000000000000000000000000001',\n",
       "     '0000000000000000000000000000000000000000000000000000000000000024'],\n",
       "    'storage': {}},\n",
       "   {'depth': 0,\n",
       "    'error': '',\n",
       "    'gas': 120052,\n",
       "    'gasCost': 3,\n",
       "    'memory': ['0000000000000000000000000000000000000000000000000000000000000000',\n",
       "     '0000000000000000000000000000000000000000000000000000000000000000',\n",
       "     '0000000000000000000000000000000000000000000000000000000000000080'],\n",
       "    'op': 'SWAP3',\n",
       "    'pc': 198,\n",
       "    'stack': ['000000000000000000000000000000000000000000000000000000004f11dbea',\n",
       "     '00000000000000000000000000000000000000000000000000000000000000d0',\n",
       "     '0000000000000000000000000000000000000000000000000000000000000024',\n",
       "     '0000000000000000000000000000000000000000000000000000000000000004',\n",
       "     '0000000000000000000000000000000000000000000000000000000000000024',\n",
       "     '0000000000000000000000000000000000000000000000000000000000000001'],\n",
       "    'storage': {}},\n",
       "   {'depth': 0,\n",
       "    'error': '',\n",
       "    'gas': 120049,\n",
       "    'gasCost': 3,\n",
       "    'memory': ['0000000000000000000000000000000000000000000000000000000000000000',\n",
       "     '0000000000000000000000000000000000000000000000000000000000000000',\n",
       "     '0000000000000000000000000000000000000000000000000000000000000080'],\n",
       "    'op': 'SWAP2',\n",
       "    'pc': 199,\n",
       "    'stack': ['000000000000000000000000000000000000000000000000000000004f11dbea',\n",
       "     '00000000000000000000000000000000000000000000000000000000000000d0',\n",
       "     '0000000000000000000000000000000000000000000000000000000000000001',\n",
       "     '0000000000000000000000000000000000000000000000000000000000000004',\n",
       "     '0000000000000000000000000000000000000000000000000000000000000024',\n",
       "     '0000000000000000000000000000000000000000000000000000000000000024'],\n",
       "    'storage': {}},\n",
       "   {'depth': 0,\n",
       "    'error': '',\n",
       "    'gas': 120046,\n",
       "    'gasCost': 3,\n",
       "    'memory': ['0000000000000000000000000000000000000000000000000000000000000000',\n",
       "     '0000000000000000000000000000000000000000000000000000000000000000',\n",
       "     '0000000000000000000000000000000000000000000000000000000000000080'],\n",
       "    'op': 'SWAP1',\n",
       "    'pc': 200,\n",
       "    'stack': ['000000000000000000000000000000000000000000000000000000004f11dbea',\n",
       "     '00000000000000000000000000000000000000000000000000000000000000d0',\n",
       "     '0000000000000000000000000000000000000000000000000000000000000001',\n",
       "     '0000000000000000000000000000000000000000000000000000000000000024',\n",
       "     '0000000000000000000000000000000000000000000000000000000000000024',\n",
       "     '0000000000000000000000000000000000000000000000000000000000000004'],\n",
       "    'storage': {}},\n",
       "   {'depth': 0,\n",
       "    'error': '',\n",
       "    'gas': 120043,\n",
       "    'gasCost': 3,\n",
       "    'memory': ['0000000000000000000000000000000000000000000000000000000000000000',\n",
       "     '0000000000000000000000000000000000000000000000000000000000000000',\n",
       "     '0000000000000000000000000000000000000000000000000000000000000080'],\n",
       "    'op': 'POP',\n",
       "    'pc': 201,\n",
       "    'stack': ['000000000000000000000000000000000000000000000000000000004f11dbea',\n",
       "     '00000000000000000000000000000000000000000000000000000000000000d0',\n",
       "     '0000000000000000000000000000000000000000000000000000000000000001',\n",
       "     '0000000000000000000000000000000000000000000000000000000000000024',\n",
       "     '0000000000000000000000000000000000000000000000000000000000000004',\n",
       "     '0000000000000000000000000000000000000000000000000000000000000024'],\n",
       "    'storage': {}},\n",
       "   {'depth': 0,\n",
       "    'error': '',\n",
       "    'gas': 120041,\n",
       "    'gasCost': 2,\n",
       "    'memory': ['0000000000000000000000000000000000000000000000000000000000000000',\n",
       "     '0000000000000000000000000000000000000000000000000000000000000000',\n",
       "     '0000000000000000000000000000000000000000000000000000000000000080'],\n",
       "    'op': 'POP',\n",
       "    'pc': 202,\n",
       "    'stack': ['000000000000000000000000000000000000000000000000000000004f11dbea',\n",
       "     '00000000000000000000000000000000000000000000000000000000000000d0',\n",
       "     '0000000000000000000000000000000000000000000000000000000000000001',\n",
       "     '0000000000000000000000000000000000000000000000000000000000000024',\n",
       "     '0000000000000000000000000000000000000000000000000000000000000004'],\n",
       "    'storage': {}},\n",
       "   {'depth': 0,\n",
       "    'error': '',\n",
       "    'gas': 120039,\n",
       "    'gasCost': 2,\n",
       "    'memory': ['0000000000000000000000000000000000000000000000000000000000000000',\n",
       "     '0000000000000000000000000000000000000000000000000000000000000000',\n",
       "     '0000000000000000000000000000000000000000000000000000000000000080'],\n",
       "    'op': 'POP',\n",
       "    'pc': 203,\n",
       "    'stack': ['000000000000000000000000000000000000000000000000000000004f11dbea',\n",
       "     '00000000000000000000000000000000000000000000000000000000000000d0',\n",
       "     '0000000000000000000000000000000000000000000000000000000000000001',\n",
       "     '0000000000000000000000000000000000000000000000000000000000000024'],\n",
       "    'storage': {}},\n",
       "   {'depth': 0,\n",
       "    'error': '',\n",
       "    'gas': 120037,\n",
       "    'gasCost': 2,\n",
       "    'memory': ['0000000000000000000000000000000000000000000000000000000000000000',\n",
       "     '0000000000000000000000000000000000000000000000000000000000000000',\n",
       "     '0000000000000000000000000000000000000000000000000000000000000080'],\n",
       "    'op': 'PUSH2',\n",
       "    'pc': 204,\n",
       "    'stack': ['000000000000000000000000000000000000000000000000000000004f11dbea',\n",
       "     '00000000000000000000000000000000000000000000000000000000000000d0',\n",
       "     '0000000000000000000000000000000000000000000000000000000000000001'],\n",
       "    'storage': {}},\n",
       "   {'depth': 0,\n",
       "    'error': '',\n",
       "    'gas': 120034,\n",
       "    'gasCost': 3,\n",
       "    'memory': ['0000000000000000000000000000000000000000000000000000000000000000',\n",
       "     '0000000000000000000000000000000000000000000000000000000000000000',\n",
       "     '0000000000000000000000000000000000000000000000000000000000000080'],\n",
       "    'op': 'JUMP',\n",
       "    'pc': 207,\n",
       "    'stack': ['000000000000000000000000000000000000000000000000000000004f11dbea',\n",
       "     '00000000000000000000000000000000000000000000000000000000000000d0',\n",
       "     '0000000000000000000000000000000000000000000000000000000000000001',\n",
       "     '0000000000000000000000000000000000000000000000000000000000000265'],\n",
       "    'storage': {}},\n",
       "   {'depth': 0,\n",
       "    'error': '',\n",
       "    'gas': 120026,\n",
       "    'gasCost': 8,\n",
       "    'memory': ['0000000000000000000000000000000000000000000000000000000000000000',\n",
       "     '0000000000000000000000000000000000000000000000000000000000000000',\n",
       "     '0000000000000000000000000000000000000000000000000000000000000080'],\n",
       "    'op': 'JUMPDEST',\n",
       "    'pc': 613,\n",
       "    'stack': ['000000000000000000000000000000000000000000000000000000004f11dbea',\n",
       "     '00000000000000000000000000000000000000000000000000000000000000d0',\n",
       "     '0000000000000000000000000000000000000000000000000000000000000001'],\n",
       "    'storage': {}},\n",
       "   {'depth': 0,\n",
       "    'error': '',\n",
       "    'gas': 120025,\n",
       "    'gasCost': 1,\n",
       "    'memory': ['0000000000000000000000000000000000000000000000000000000000000000',\n",
       "     '0000000000000000000000000000000000000000000000000000000000000000',\n",
       "     '0000000000000000000000000000000000000000000000000000000000000080'],\n",
       "    'op': 'DUP1',\n",
       "    'pc': 614,\n",
       "    'stack': ['000000000000000000000000000000000000000000000000000000004f11dbea',\n",
       "     '00000000000000000000000000000000000000000000000000000000000000d0',\n",
       "     '0000000000000000000000000000000000000000000000000000000000000001'],\n",
       "    'storage': {}},\n",
       "   {'depth': 0,\n",
       "    'error': '',\n",
       "    'gas': 120022,\n",
       "    'gasCost': 3,\n",
       "    'memory': ['0000000000000000000000000000000000000000000000000000000000000000',\n",
       "     '0000000000000000000000000000000000000000000000000000000000000000',\n",
       "     '0000000000000000000000000000000000000000000000000000000000000080'],\n",
       "    'op': 'PUSH1',\n",
       "    'pc': 615,\n",
       "    'stack': ['000000000000000000000000000000000000000000000000000000004f11dbea',\n",
       "     '00000000000000000000000000000000000000000000000000000000000000d0',\n",
       "     '0000000000000000000000000000000000000000000000000000000000000001',\n",
       "     '0000000000000000000000000000000000000000000000000000000000000001'],\n",
       "    'storage': {}},\n",
       "   {'depth': 0,\n",
       "    'error': '',\n",
       "    'gas': 120019,\n",
       "    'gasCost': 3,\n",
       "    'memory': ['0000000000000000000000000000000000000000000000000000000000000000',\n",
       "     '0000000000000000000000000000000000000000000000000000000000000000',\n",
       "     '0000000000000000000000000000000000000000000000000000000000000080'],\n",
       "    'op': 'DUP2',\n",
       "    'pc': 617,\n",
       "    'stack': ['000000000000000000000000000000000000000000000000000000004f11dbea',\n",
       "     '00000000000000000000000000000000000000000000000000000000000000d0',\n",
       "     '0000000000000000000000000000000000000000000000000000000000000001',\n",
       "     '0000000000000000000000000000000000000000000000000000000000000001',\n",
       "     '0000000000000000000000000000000000000000000000000000000000000001'],\n",
       "    'storage': {}},\n",
       "   {'depth': 0,\n",
       "    'error': '',\n",
       "    'gas': 120016,\n",
       "    'gasCost': 3,\n",
       "    'memory': ['0000000000000000000000000000000000000000000000000000000000000000',\n",
       "     '0000000000000000000000000000000000000000000000000000000000000000',\n",
       "     '0000000000000000000000000000000000000000000000000000000000000080'],\n",
       "    'op': 'SWAP1',\n",
       "    'pc': 618,\n",
       "    'stack': ['000000000000000000000000000000000000000000000000000000004f11dbea',\n",
       "     '00000000000000000000000000000000000000000000000000000000000000d0',\n",
       "     '0000000000000000000000000000000000000000000000000000000000000001',\n",
       "     '0000000000000000000000000000000000000000000000000000000000000001',\n",
       "     '0000000000000000000000000000000000000000000000000000000000000001',\n",
       "     '0000000000000000000000000000000000000000000000000000000000000001'],\n",
       "    'storage': {}},\n",
       "   {'depth': 0,\n",
       "    'error': '',\n",
       "    'gas': 120013,\n",
       "    'gasCost': 3,\n",
       "    'memory': ['0000000000000000000000000000000000000000000000000000000000000000',\n",
       "     '0000000000000000000000000000000000000000000000000000000000000000',\n",
       "     '0000000000000000000000000000000000000000000000000000000000000080'],\n",
       "    'op': 'SSTORE',\n",
       "    'pc': 619,\n",
       "    'stack': ['000000000000000000000000000000000000000000000000000000004f11dbea',\n",
       "     '00000000000000000000000000000000000000000000000000000000000000d0',\n",
       "     '0000000000000000000000000000000000000000000000000000000000000001',\n",
       "     '0000000000000000000000000000000000000000000000000000000000000001',\n",
       "     '0000000000000000000000000000000000000000000000000000000000000001',\n",
       "     '0000000000000000000000000000000000000000000000000000000000000001'],\n",
       "    'storage': {}},\n",
       "   {'depth': 0,\n",
       "    'error': '',\n",
       "    'gas': 100013,\n",
       "    'gasCost': 20000,\n",
       "    'memory': ['0000000000000000000000000000000000000000000000000000000000000000',\n",
       "     '0000000000000000000000000000000000000000000000000000000000000000',\n",
       "     '0000000000000000000000000000000000000000000000000000000000000080'],\n",
       "    'op': 'POP',\n",
       "    'pc': 620,\n",
       "    'stack': ['000000000000000000000000000000000000000000000000000000004f11dbea',\n",
       "     '00000000000000000000000000000000000000000000000000000000000000d0',\n",
       "     '0000000000000000000000000000000000000000000000000000000000000001',\n",
       "     '0000000000000000000000000000000000000000000000000000000000000001'],\n",
       "    'storage': {'0000000000000000000000000000000000000000000000000000000000000001': '0000000000000000000000000000000000000000000000000000000000000001'}},\n",
       "   {'depth': 0,\n",
       "    'error': '',\n",
       "    'gas': 100011,\n",
       "    'gasCost': 2,\n",
       "    'memory': ['0000000000000000000000000000000000000000000000000000000000000000',\n",
       "     '0000000000000000000000000000000000000000000000000000000000000000',\n",
       "     '0000000000000000000000000000000000000000000000000000000000000080'],\n",
       "    'op': 'POP',\n",
       "    'pc': 621,\n",
       "    'stack': ['000000000000000000000000000000000000000000000000000000004f11dbea',\n",
       "     '00000000000000000000000000000000000000000000000000000000000000d0',\n",
       "     '0000000000000000000000000000000000000000000000000000000000000001'],\n",
       "    'storage': {'0000000000000000000000000000000000000000000000000000000000000001': '0000000000000000000000000000000000000000000000000000000000000001'}},\n",
       "   {'depth': 0,\n",
       "    'error': '',\n",
       "    'gas': 100009,\n",
       "    'gasCost': 2,\n",
       "    'memory': ['0000000000000000000000000000000000000000000000000000000000000000',\n",
       "     '0000000000000000000000000000000000000000000000000000000000000000',\n",
       "     '0000000000000000000000000000000000000000000000000000000000000080'],\n",
       "    'op': 'JUMP',\n",
       "    'pc': 622,\n",
       "    'stack': ['000000000000000000000000000000000000000000000000000000004f11dbea',\n",
       "     '00000000000000000000000000000000000000000000000000000000000000d0'],\n",
       "    'storage': {'0000000000000000000000000000000000000000000000000000000000000001': '0000000000000000000000000000000000000000000000000000000000000001'}},\n",
       "   {'depth': 0,\n",
       "    'error': '',\n",
       "    'gas': 100001,\n",
       "    'gasCost': 8,\n",
       "    'memory': ['0000000000000000000000000000000000000000000000000000000000000000',\n",
       "     '0000000000000000000000000000000000000000000000000000000000000000',\n",
       "     '0000000000000000000000000000000000000000000000000000000000000080'],\n",
       "    'op': 'JUMPDEST',\n",
       "    'pc': 208,\n",
       "    'stack': ['000000000000000000000000000000000000000000000000000000004f11dbea'],\n",
       "    'storage': {'0000000000000000000000000000000000000000000000000000000000000001': '0000000000000000000000000000000000000000000000000000000000000001'}},\n",
       "   {'depth': 0,\n",
       "    'error': '',\n",
       "    'gas': 100000,\n",
       "    'gasCost': 1,\n",
       "    'memory': ['0000000000000000000000000000000000000000000000000000000000000000',\n",
       "     '0000000000000000000000000000000000000000000000000000000000000000',\n",
       "     '0000000000000000000000000000000000000000000000000000000000000080'],\n",
       "    'op': 'STOP',\n",
       "    'pc': 209,\n",
       "    'stack': ['000000000000000000000000000000000000000000000000000000004f11dbea'],\n",
       "    'storage': {'0000000000000000000000000000000000000000000000000000000000000001': '0000000000000000000000000000000000000000000000000000000000000001'}}]}}"
      ]
     },
     "execution_count": 406,
     "metadata": {},
     "output_type": "execute_result"
    }
   ],
   "source": [
    "# debug i.e. trace a transaction and its operations \n",
    "w3.providers[0].make_request(\"debug_traceTransaction\", [tx_hash.hex(), {}])"
   ]
  },
  {
   "cell_type": "markdown",
   "metadata": {},
   "source": [
    "### Fallback function"
   ]
  },
  {
   "cell_type": "markdown",
   "metadata": {},
   "source": [
    "The fallback function is the function that is invoked when the method ID does not match any function or then ether is sent directly to the contract. For a contract to be able to accept ether this function has to be defined as `payable`. "
   ]
  },
  {
   "cell_type": "code",
   "execution_count": 407,
   "metadata": {},
   "outputs": [
    {
     "data": {
      "text/plain": [
       "1"
      ]
     },
     "execution_count": 407,
     "metadata": {},
     "output_type": "execute_result"
    }
   ],
   "source": [
    "instance.functions.greetbit().call()"
   ]
  },
  {
   "cell_type": "code",
   "execution_count": 408,
   "metadata": {},
   "outputs": [
    {
     "data": {
      "text/plain": [
       "HexBytes('0x497a94f86ff8f361e2dd214e6eca8e0eca1984b6b807015e5716851b9f8e12d2')"
      ]
     },
     "execution_count": 408,
     "metadata": {},
     "output_type": "execute_result"
    }
   ],
   "source": [
    "cdata = b\"0xffffffff\"\n",
    "tx_hash = w3.eth.sendTransaction({\"from\":w3.eth.accounts[0],\"to\":caddress,\"value\":0})\n",
    "tx_hash"
   ]
  },
  {
   "cell_type": "code",
   "execution_count": 409,
   "metadata": {},
   "outputs": [
    {
     "data": {
      "text/plain": [
       "0"
      ]
     },
     "execution_count": 409,
     "metadata": {},
     "output_type": "execute_result"
    }
   ],
   "source": [
    "instance.functions.greetbit().call()"
   ]
  },
  {
   "cell_type": "markdown",
   "metadata": {},
   "source": [
    "## Contract deployment and interaction (the easy way) "
   ]
  },
  {
   "cell_type": "markdown",
   "metadata": {},
   "source": [
    "Now the easy way using a small utility lib"
   ]
  },
  {
   "cell_type": "code",
   "execution_count": 365,
   "metadata": {
    "scrolled": true
   },
   "outputs": [
    {
     "data": {
      "text/plain": [
       "'/smartcode/Greeter'"
      ]
     },
     "execution_count": 365,
     "metadata": {},
     "output_type": "execute_result"
    }
   ],
   "source": [
    "pwd"
   ]
  },
  {
   "cell_type": "code",
   "execution_count": 366,
   "metadata": {
    "scrolled": true
   },
   "outputs": [
    {
     "name": "stdout",
     "output_type": "stream",
     "text": [
      "cat: Greeter/Greeter.sol: No such file or directory\r\n"
     ]
    }
   ],
   "source": [
    "cat Greeter/Greeter.sol"
   ]
  },
  {
   "cell_type": "code",
   "execution_count": 367,
   "metadata": {},
   "outputs": [],
   "source": [
    "import myutil as util"
   ]
  },
  {
   "cell_type": "code",
   "execution_count": 368,
   "metadata": {},
   "outputs": [],
   "source": [
    "instance = util.compile_and_deploy_contract(\"/smartcode/Greeter/Greeter.sol\")"
   ]
  },
  {
   "cell_type": "code",
   "execution_count": 369,
   "metadata": {},
   "outputs": [
    {
     "data": {
      "text/plain": [
       "'0xf72459Df9a9fF3E25eAAe96B87eCd947ff466018'"
      ]
     },
     "execution_count": 369,
     "metadata": {},
     "output_type": "execute_result"
    }
   ],
   "source": [
    "instance.address"
   ]
  },
  {
   "cell_type": "code",
   "execution_count": 370,
   "metadata": {},
   "outputs": [
    {
     "data": {
      "text/plain": [
       "'Hello'"
      ]
     },
     "execution_count": 370,
     "metadata": {},
     "output_type": "execute_result"
    }
   ],
   "source": [
    "instance.greet()"
   ]
  },
  {
   "cell_type": "code",
   "execution_count": 371,
   "metadata": {
    "scrolled": true
   },
   "outputs": [
    {
     "data": {
      "text/plain": [
       "AttributeDict({'transactionHash': HexBytes('0xdd69e7b1f48359b9edd398c5e3e9d01a7d6be58c3572e8b80147a8a47dd8d781'),\n",
       " 'transactionIndex': 0,\n",
       " 'blockHash': HexBytes('0xdf678eb9da6c03da0d9b5f1dc276f85c68f1f16a1fce5b570fa09d657fee52aa'),\n",
       " 'blockNumber': 29,\n",
       " 'from': '0xa17fb6cc107693b92e45e49022a2854ac0deaf25',\n",
       " 'to': '0xf72459df9a9ff3e25eaae96b87ecd947ff466018',\n",
       " 'gasUsed': 33112,\n",
       " 'cumulativeGasUsed': 33112,\n",
       " 'contractAddress': None,\n",
       " 'logs': [],\n",
       " 'status': 1,\n",
       " 'logsBloom': HexBytes('0x00000000000000000000000000000000000000000000000000000000000000000000000000000000000000000000000000000000000000000000000000000000000000000000000000000000000000000000000000000000000000000000000000000000000000000000000000000000000000000000000000000000000000000000000000000000000000000000000000000000000000000000000000000000000000000000000000000000000000000000000000000000000000000000000000000000000000000000000000000000000000000000000000000000000000000000000000000000000000000000000000000000000000000000000000000000'),\n",
       " 'v': '0x1b',\n",
       " 'r': '0x16f1f7fec978e11489ceda369cbb820dfe615607f8a5d992416ae4d1e49d4ae8',\n",
       " 's': '0x7b8c69ea9e2704a6db93750005a4746c8b15583d56a80a343d4d772c7f935daf'})"
      ]
     },
     "execution_count": 371,
     "metadata": {},
     "output_type": "execute_result"
    }
   ],
   "source": [
    "# With the patched concise contract Factory the function\n",
    "# waits till a block is mined and directly returns the tx receipt\n",
    "tx_receipt = instance.setGreeting(\"Nihao\", transact={\"from\": w3.eth.accounts[0]})\n",
    "tx_receipt"
   ]
  },
  {
   "cell_type": "code",
   "execution_count": 372,
   "metadata": {},
   "outputs": [
    {
     "data": {
      "text/plain": [
       "'Nihao'"
      ]
     },
     "execution_count": 372,
     "metadata": {},
     "output_type": "execute_result"
    }
   ],
   "source": [
    "instance.greet()"
   ]
  },
  {
   "cell_type": "markdown",
   "metadata": {},
   "source": [
    "## Events"
   ]
  },
  {
   "cell_type": "markdown",
   "metadata": {},
   "source": [
    "Events are a way to notify clients listening to new blocks about smart contract operations that have been performed.\n",
    "* https://solidity.readthedocs.io/en/develop/contracts.html#events\n",
    "* https://web3py.readthedocs.io/en/stable/filters.html?highlight=events\n",
    "* https://web3py.readthedocs.io/en/stable/contracts.html#events"
   ]
  },
  {
   "cell_type": "code",
   "execution_count": 492,
   "metadata": {},
   "outputs": [
    {
     "data": {
      "text/plain": [
       "'/smartcode'"
      ]
     },
     "execution_count": 492,
     "metadata": {},
     "output_type": "execute_result"
    }
   ],
   "source": [
    "pwd"
   ]
  },
  {
   "cell_type": "code",
   "execution_count": 495,
   "metadata": {},
   "outputs": [
    {
     "name": "stdout",
     "output_type": "stream",
     "text": [
      "/smartcode\n"
     ]
    }
   ],
   "source": [
    "cd smartcode"
   ]
  },
  {
   "cell_type": "code",
   "execution_count": 514,
   "metadata": {},
   "outputs": [
    {
     "name": "stdout",
     "output_type": "stream",
     "text": [
      "pragma solidity ^0.4.25;\r\n",
      "\r\n",
      "contract Eventer {\r\n",
      "\r\n",
      "    event create(uint256 v);\r\n",
      "    event funcall(address caller,uint256 value);\r\n",
      "    event funcall2(address indexed caller,uint256 indexed value);\r\n",
      "    event fallcall(address caller);\r\n",
      "\r\n",
      "    constructor() public {\r\n",
      "        emit create(1);\r\n",
      "    }\r\n",
      "\r\n",
      "    function func1(uint256 v) public {\r\n",
      "        emit funcall(msg.sender,v);\r\n",
      "    }\r\n",
      "\r\n",
      "    function func2(uint256 v) public {\r\n",
      "        emit funcall2(msg.sender,v);\r\n",
      "    }\r\n",
      "\r\n",
      "    function() public payable{\r\n",
      "        emit fallcall(msg.sender);\r\n",
      "    }\r\n",
      "\r\n",
      "}\r\n"
     ]
    }
   ],
   "source": [
    "!cat Eventer/Eventer.sol"
   ]
  },
  {
   "cell_type": "code",
   "execution_count": 515,
   "metadata": {},
   "outputs": [
    {
     "name": "stdout",
     "output_type": "stream",
     "text": [
      "\r\n",
      "======= Eventer/Eventer.sol:Eventer =======\r\n",
      "Binary: \r\n",
      "608060405234801561001057600080fd5b507f780900dcfb922770b66b73546245c9d725e14dd206326f4f8f5a706976c2b61d60016040518082815260200191505060405180910390a16101ec806100586000396000f30060806040526004361061004c576000357c0100000000000000000000000000000000000000000000000000000000900463ffffffff16806316d93ade146100b1578063254e43db146100de575b7f558048e62c62b6dedcadcb7b740131fd129cfa4019d5a5158a5befc2976d0f1d33604051808273ffffffffffffffffffffffffffffffffffffffff1673ffffffffffffffffffffffffffffffffffffffff16815260200191505060405180910390a1005b3480156100bd57600080fd5b506100dc6004803603810190808035906020019092919050505061010b565b005b3480156100ea57600080fd5b5061010960048036038101908080359060200190929190505050610152565b005b803373ffffffffffffffffffffffffffffffffffffffff167f1a7f26d3c848a605ab293135411d69990f60fa592874ca544b2f290579fbe1b860405160405180910390a350565b7fcdb58a22429d89e572d17333db36ab8054687b985157808a3aefd24cdbe175203382604051808373ffffffffffffffffffffffffffffffffffffffff1673ffffffffffffffffffffffffffffffffffffffff1681526020018281526020019250505060405180910390a1505600a165627a7a72305820baac09dc19578594304ffe7c4ff26b0fcc9432d74cb2958463ac7a1b3d8473a00029\r\n"
     ]
    }
   ],
   "source": [
    "!solc --bin Eventer/Eventer.sol"
   ]
  },
  {
   "cell_type": "code",
   "execution_count": 516,
   "metadata": {},
   "outputs": [],
   "source": [
    "# create a contract instance \n",
    "einstance = util.compile_and_deploy_contract(\"/smartcode/Eventer/Eventer.sol\")"
   ]
  },
  {
   "cell_type": "code",
   "execution_count": 517,
   "metadata": {},
   "outputs": [
    {
     "data": {
      "text/plain": [
       "'0x3C422D813188E3f92923C455925acEE26C121098'"
      ]
     },
     "execution_count": 517,
     "metadata": {},
     "output_type": "execute_result"
    }
   ],
   "source": [
    "einstance.address"
   ]
  },
  {
   "cell_type": "markdown",
   "metadata": {},
   "source": [
    "Now we create a listener to listen for the latest *create* events and return all of them."
   ]
  },
  {
   "cell_type": "code",
   "execution_count": 518,
   "metadata": {},
   "outputs": [],
   "source": [
    "event_filter = einstance.events.create.createFilter(fromBlock='latest')"
   ]
  },
  {
   "cell_type": "code",
   "execution_count": 519,
   "metadata": {},
   "outputs": [
    {
     "data": {
      "text/plain": [
       "[AttributeDict({'args': AttributeDict({'v': 1}),\n",
       "  'event': 'create',\n",
       "  'logIndex': 0,\n",
       "  'transactionIndex': 0,\n",
       "  'transactionHash': HexBytes('0x7f9c603b068ad5ba4832eafbc825905e4f618e46d273074c3e1292e97d757a55'),\n",
       "  'address': '0x3C422D813188E3f92923C455925acEE26C121098',\n",
       "  'blockHash': HexBytes('0x477b4b54e25d253d60ac4ff39127aed85951cc8a4aeb4d11bccc60b6b45ff991'),\n",
       "  'blockNumber': 99})]"
      ]
     },
     "execution_count": 519,
     "metadata": {},
     "output_type": "execute_result"
    }
   ],
   "source": [
    "event_filter.get_all_entries()"
   ]
  },
  {
   "cell_type": "markdown",
   "metadata": {},
   "source": [
    "Now we fire a new event by creating a new transaction and keep the `tx_receipt` which we cen process later on. "
   ]
  },
  {
   "cell_type": "code",
   "execution_count": 520,
   "metadata": {},
   "outputs": [
    {
     "data": {
      "text/plain": [
       "AttributeDict({'transactionHash': HexBytes('0xc0390dfd7734f681ff152a13a9ecb76922dab93c900146dd4acce2fcd1915665'),\n",
       " 'transactionIndex': 0,\n",
       " 'blockHash': HexBytes('0xe6652732e24e02c2a52fe78a3d9b1e37d6204ec64172975c5c7836b5c7a6417c'),\n",
       " 'blockNumber': 100,\n",
       " 'from': '0xa17fb6cc107693b92e45e49022a2854ac0deaf25',\n",
       " 'to': '0x3c422d813188e3f92923c455925acee26c121098',\n",
       " 'gasUsed': 23034,\n",
       " 'cumulativeGasUsed': 23034,\n",
       " 'contractAddress': None,\n",
       " 'logs': [AttributeDict({'logIndex': 0,\n",
       "   'transactionIndex': 0,\n",
       "   'transactionHash': HexBytes('0xc0390dfd7734f681ff152a13a9ecb76922dab93c900146dd4acce2fcd1915665'),\n",
       "   'blockHash': HexBytes('0xe6652732e24e02c2a52fe78a3d9b1e37d6204ec64172975c5c7836b5c7a6417c'),\n",
       "   'blockNumber': 100,\n",
       "   'address': '0x3C422D813188E3f92923C455925acEE26C121098',\n",
       "   'data': '0x000000000000000000000000a17fb6cc107693b92e45e49022a2854ac0deaf250000000000000000000000000000000000000000000000000000000000000003',\n",
       "   'topics': [HexBytes('0xcdb58a22429d89e572d17333db36ab8054687b985157808a3aefd24cdbe17520')],\n",
       "   'type': 'mined'})],\n",
       " 'status': 1,\n",
       " 'logsBloom': HexBytes('0x00000000000000000000000000000000000000000000000000000000000000000000000000000000000000000000000000000000000000000000000000000000000000000000000000000020000000000000000000000000000000000000000000000000000000000000000000000000000000400000000000000000000000000000000000000000000000000002000000000000000000000000000000000000000000000000000000000000000001000000000000000000000000002000000000000000000000000000000000000000000000000000000000000000000000000000000000000000000000000000000000000000000000000000000000000001'),\n",
       " 'v': '0x1c',\n",
       " 'r': '0x675da4d5e7ae5f7437b817c8976f57024ad3233ad067cf44e977b2e32a6e3c43',\n",
       " 's': '0x7c7694e8dab1ca0a1f5a38c7f56501d10d56caf52eb9d787896297cb386a2acc'})"
      ]
     },
     "execution_count": 520,
     "metadata": {},
     "output_type": "execute_result"
    }
   ],
   "source": [
    "tx_receipt = einstance.func1(3,transact={\"from\":w3.eth.coinbase})\n",
    "tx_receipt"
   ]
  },
  {
   "cell_type": "markdown",
   "metadata": {},
   "source": [
    "The `tx_receipt` contains the respective event."
   ]
  },
  {
   "cell_type": "code",
   "execution_count": 521,
   "metadata": {},
   "outputs": [
    {
     "data": {
      "text/plain": [
       "(AttributeDict({'args': AttributeDict({'caller': '0xa17FB6cC107693b92e45e49022a2854Ac0DeAf25',\n",
       "   'value': 3}),\n",
       "  'event': 'funcall',\n",
       "  'logIndex': 0,\n",
       "  'transactionIndex': 0,\n",
       "  'transactionHash': HexBytes('0xc0390dfd7734f681ff152a13a9ecb76922dab93c900146dd4acce2fcd1915665'),\n",
       "  'address': '0x3C422D813188E3f92923C455925acEE26C121098',\n",
       "  'blockHash': HexBytes('0xe6652732e24e02c2a52fe78a3d9b1e37d6204ec64172975c5c7836b5c7a6417c'),\n",
       "  'blockNumber': 100}),)"
      ]
     },
     "execution_count": 521,
     "metadata": {},
     "output_type": "execute_result"
    }
   ],
   "source": [
    "einstance.events.funcall().processReceipt(tx_receipt)"
   ]
  },
  {
   "cell_type": "markdown",
   "metadata": {},
   "source": [
    "The `tx_receipt` does **not** contain the respective event."
   ]
  },
  {
   "cell_type": "code",
   "execution_count": 522,
   "metadata": {},
   "outputs": [
    {
     "data": {
      "text/plain": [
       "()"
      ]
     },
     "execution_count": 522,
     "metadata": {},
     "output_type": "execute_result"
    }
   ],
   "source": [
    "einstance.events.funcall2().processReceipt(tx_receipt)"
   ]
  },
  {
   "cell_type": "markdown",
   "metadata": {},
   "source": [
    "Now lets fire the `funcall` event again collect all events until now"
   ]
  },
  {
   "cell_type": "code",
   "execution_count": 523,
   "metadata": {},
   "outputs": [
    {
     "data": {
      "text/plain": [
       "AttributeDict({'transactionHash': HexBytes('0x7c4e72a6ddaafc1022dfb87dab6aab536d8bd8a42c5201966455611dba7695b5'),\n",
       " 'transactionIndex': 0,\n",
       " 'blockHash': HexBytes('0x271f53d8c5f7dc7c3645cd432d4be6cece8b1cc3a5e5d30d60bff955ee9734c9'),\n",
       " 'blockNumber': 101,\n",
       " 'from': '0xa17fb6cc107693b92e45e49022a2854ac0deaf25',\n",
       " 'to': '0x3c422d813188e3f92923c455925acee26c121098',\n",
       " 'gasUsed': 23034,\n",
       " 'cumulativeGasUsed': 23034,\n",
       " 'contractAddress': None,\n",
       " 'logs': [AttributeDict({'logIndex': 0,\n",
       "   'transactionIndex': 0,\n",
       "   'transactionHash': HexBytes('0x7c4e72a6ddaafc1022dfb87dab6aab536d8bd8a42c5201966455611dba7695b5'),\n",
       "   'blockHash': HexBytes('0x271f53d8c5f7dc7c3645cd432d4be6cece8b1cc3a5e5d30d60bff955ee9734c9'),\n",
       "   'blockNumber': 101,\n",
       "   'address': '0x3C422D813188E3f92923C455925acEE26C121098',\n",
       "   'data': '0x000000000000000000000000a17fb6cc107693b92e45e49022a2854ac0deaf250000000000000000000000000000000000000000000000000000000000000003',\n",
       "   'topics': [HexBytes('0xcdb58a22429d89e572d17333db36ab8054687b985157808a3aefd24cdbe17520')],\n",
       "   'type': 'mined'})],\n",
       " 'status': 1,\n",
       " 'logsBloom': HexBytes('0x00000000000000000000000000000000000000000000000000000000000000000000000000000000000000000000000000000000000000000000000000000000000000000000000000000020000000000000000000000000000000000000000000000000000000000000000000000000000000400000000000000000000000000000000000000000000000000002000000000000000000000000000000000000000000000000000000000000000001000000000000000000000000002000000000000000000000000000000000000000000000000000000000000000000000000000000000000000000000000000000000000000000000000000000000000001'),\n",
       " 'v': '0x1b',\n",
       " 'r': '0x355ca0cff6add7061254de4a31894ec1b50a7a711848791c25e1db94d18d3b36',\n",
       " 's': '0x1866b983632d4a566b9db41a2c97e39a0b239a6b1c6b1333b6a6cfff29a8f281'})"
      ]
     },
     "execution_count": 523,
     "metadata": {},
     "output_type": "execute_result"
    }
   ],
   "source": [
    "tx_receipt = einstance.func1(3,transact={\"from\":w3.eth.coinbase})\n",
    "tx_receipt"
   ]
  },
  {
   "cell_type": "code",
   "execution_count": 524,
   "metadata": {},
   "outputs": [],
   "source": [
    "event_filter = einstance.events.funcall.createFilter(fromBlock=0)"
   ]
  },
  {
   "cell_type": "code",
   "execution_count": 525,
   "metadata": {},
   "outputs": [
    {
     "data": {
      "text/plain": [
       "[AttributeDict({'args': AttributeDict({'caller': '0xa17FB6cC107693b92e45e49022a2854Ac0DeAf25',\n",
       "   'value': 3}),\n",
       "  'event': 'funcall',\n",
       "  'logIndex': 0,\n",
       "  'transactionIndex': 0,\n",
       "  'transactionHash': HexBytes('0xc0390dfd7734f681ff152a13a9ecb76922dab93c900146dd4acce2fcd1915665'),\n",
       "  'address': '0x3C422D813188E3f92923C455925acEE26C121098',\n",
       "  'blockHash': HexBytes('0xe6652732e24e02c2a52fe78a3d9b1e37d6204ec64172975c5c7836b5c7a6417c'),\n",
       "  'blockNumber': 100}),\n",
       " AttributeDict({'args': AttributeDict({'caller': '0xa17FB6cC107693b92e45e49022a2854Ac0DeAf25',\n",
       "   'value': 3}),\n",
       "  'event': 'funcall',\n",
       "  'logIndex': 0,\n",
       "  'transactionIndex': 0,\n",
       "  'transactionHash': HexBytes('0x7c4e72a6ddaafc1022dfb87dab6aab536d8bd8a42c5201966455611dba7695b5'),\n",
       "  'address': '0x3C422D813188E3f92923C455925acEE26C121098',\n",
       "  'blockHash': HexBytes('0x271f53d8c5f7dc7c3645cd432d4be6cece8b1cc3a5e5d30d60bff955ee9734c9'),\n",
       "  'blockNumber': 101})]"
      ]
     },
     "execution_count": 525,
     "metadata": {},
     "output_type": "execute_result"
    }
   ],
   "source": [
    "event_filter.get_all_entries()"
   ]
  },
  {
   "cell_type": "code",
   "execution_count": 526,
   "metadata": {},
   "outputs": [
    {
     "data": {
      "text/plain": [
       "AttributeDict({'transactionHash': HexBytes('0xa57dab9becfeff10780622411bde1c675e11c1c8700d257475e09c36e4bd9be5'),\n",
       " 'transactionIndex': 0,\n",
       " 'blockHash': HexBytes('0xc063e4a76ebf82bc664e9f94786893fa264b3f9e6abd3a009a96c319c3ffd824'),\n",
       " 'blockNumber': 102,\n",
       " 'from': '0xa17fb6cc107693b92e45e49022a2854ac0deaf25',\n",
       " 'to': '0x3c422d813188e3f92923c455925acee26c121098',\n",
       " 'gasUsed': 22118,\n",
       " 'cumulativeGasUsed': 22118,\n",
       " 'contractAddress': None,\n",
       " 'logs': [AttributeDict({'logIndex': 0,\n",
       "   'transactionIndex': 0,\n",
       "   'transactionHash': HexBytes('0xa57dab9becfeff10780622411bde1c675e11c1c8700d257475e09c36e4bd9be5'),\n",
       "   'blockHash': HexBytes('0xc063e4a76ebf82bc664e9f94786893fa264b3f9e6abd3a009a96c319c3ffd824'),\n",
       "   'blockNumber': 102,\n",
       "   'address': '0x3C422D813188E3f92923C455925acEE26C121098',\n",
       "   'data': '0x000000000000000000000000a17fb6cc107693b92e45e49022a2854ac0deaf25',\n",
       "   'topics': [HexBytes('0x558048e62c62b6dedcadcb7b740131fd129cfa4019d5a5158a5befc2976d0f1d')],\n",
       "   'type': 'mined'})],\n",
       " 'status': 1,\n",
       " 'logsBloom': HexBytes('0x00000000000000000000000000000000000000000000000000000000000000000000000000000000000000000000000000000000000000000020000000000000000000000000000000000000000000000000000000000000000000000000000000000000000000000000000000000000000000000000000000000000000000000000000010000000000000000002000000000000000000000000000000000000000000000000000000000000000001000000000000000000000000002000000000000000000000000000000000000000000000000000000000000000000000000000000200000000000000000000000000000000000000000000000000000000'),\n",
       " 'v': '0x1b',\n",
       " 'r': '0x1a46df9f6caa11dea35a53ab34306c251b19d76aad0a3a36f3d3912648b7b672',\n",
       " 's': '0x14d100fd53e2abb6039e99832e237dfd88b10f0e8f3159122b569cab1f4dfde2'})"
      ]
     },
     "execution_count": 526,
     "metadata": {},
     "output_type": "execute_result"
    }
   ],
   "source": [
    "tx_hash = w3.eth.sendTransaction({\"from\":w3.eth.coinbase,\n",
    "                                  \"to\":einstance.address,\n",
    "                                  \"value\":1,\n",
    "                                  \"gas\":1_000_000})\n",
    "tx_receipt = w3.eth.waitForTransactionReceipt(tx_hash)\n",
    "tx_receipt"
   ]
  },
  {
   "cell_type": "code",
   "execution_count": 528,
   "metadata": {
    "scrolled": false
   },
   "outputs": [
    {
     "data": {
      "text/plain": [
       "(AttributeDict({'args': AttributeDict({'caller': '0xa17FB6cC107693b92e45e49022a2854Ac0DeAf25'}),\n",
       "  'event': 'fallcall',\n",
       "  'logIndex': 0,\n",
       "  'transactionIndex': 0,\n",
       "  'transactionHash': HexBytes('0xa57dab9becfeff10780622411bde1c675e11c1c8700d257475e09c36e4bd9be5'),\n",
       "  'address': '0x3C422D813188E3f92923C455925acEE26C121098',\n",
       "  'blockHash': HexBytes('0xc063e4a76ebf82bc664e9f94786893fa264b3f9e6abd3a009a96c319c3ffd824'),\n",
       "  'blockNumber': 102}),)"
      ]
     },
     "execution_count": 528,
     "metadata": {},
     "output_type": "execute_result"
    }
   ],
   "source": [
    "# get the fallback function event\n",
    "einstance.events.fallcall().processReceipt(tx_receipt)"
   ]
  },
  {
   "cell_type": "markdown",
   "metadata": {},
   "source": [
    "## Visibility"
   ]
  },
  {
   "cell_type": "markdown",
   "metadata": {},
   "source": [
    "Generally all data stored in the blockchain is visible!\n",
    "Function invocations can be restricted but be careful!\n",
    "\n",
    "* https://solidity.readthedocs.io/en/v0.4.25/contracts.html#visibility-and-getters"
   ]
  },
  {
   "cell_type": "code",
   "execution_count": 529,
   "metadata": {},
   "outputs": [
    {
     "data": {
      "text/plain": [
       "'/smartcode'"
      ]
     },
     "execution_count": 529,
     "metadata": {},
     "output_type": "execute_result"
    }
   ],
   "source": [
    "pwd"
   ]
  },
  {
   "cell_type": "code",
   "execution_count": 561,
   "metadata": {},
   "outputs": [
    {
     "name": "stdout",
     "output_type": "stream",
     "text": [
      "pragma solidity ^0.4.25;\r\n",
      "\r\n",
      "contract Visibility {\r\n",
      "    uint256 constant public cpub_int = 0x10; //set at compile time\r\n",
      "    uint256 public pub_int;   //getter is created automatically \r\n",
      "    uint256 internal int_int; //no getter but available in derived contracts \r\n",
      "    uint256 private priv_int;\r\n",
      "\r\n",
      "    event echange(uint256 indexed v);\r\n",
      "    event ichange(uint256 indexed v);\r\n",
      "    event pchange(uint256 indexed v);\r\n",
      "\r\n",
      "    constructor() public payable {\r\n",
      "        pub_int = 0x20;\r\n",
      "        int_int = 0x30;\r\n",
      "        priv_int = 0x40;\r\n",
      "    }\r\n",
      "    \r\n",
      "    // Function _should_ only be called from external accounts/contracts\r\n",
      "    // Although can also be called form this contract with this.\r\n",
      "    function ext_change() external returns (uint256) {\r\n",
      "        priv_int += 1;\r\n",
      "        emit echange(priv_int);\r\n",
      "        return priv_int;\r\n",
      "    }\r\n",
      "    \r\n",
      "    // Internal functions cannot be called directly from external accounts/contracts\r\n",
      "    // Only indirectly \r\n",
      "    function int_change() internal returns (uint256) {\r\n",
      "        int_int += 1;\r\n",
      "        emit ichange(int_int);\r\n",
      "        return int_int;\r\n",
      "    }\r\n",
      "\r\n",
      "    // Public functions are callable from everywhere\r\n",
      "    function pub_change() public returns (uint256) {\r\n",
      "        this.ext_change();\r\n",
      "        int_change();\r\n",
      "\r\n",
      "        pub_int += 1;\r\n",
      "        emit pchange(pub_int);  \r\n",
      "        return pub_int;\r\n",
      "    }\r\n",
      "\r\n",
      "    // view:\r\n",
      "    // * Not modify any state (only enforced by compiler since 0.5.0!)\r\n",
      "    function view_priv_int(uint256 v) view public returns (uint256) {\r\n",
      "        priv_int = v;\r\n",
      "        return priv_int;\r\n",
      "    }\r\n",
      "   \r\n",
      "    // pure:\r\n",
      "    // * Not modify any state\r\n",
      "    // * Not read any state (cannot by enforced since blockchain is public)\r\n",
      "    function pure_priv_int(uint256 v) pure public returns (uint256) {\r\n",
      "        //Those three lines will not compile:\r\n",
      "        //priv_int += 1;\r\n",
      "        //priv_int = v;\r\n",
      "        //return priv_int;\r\n",
      "        return v + 1;\r\n",
      "    }\r\n",
      "}\r\n"
     ]
    }
   ],
   "source": [
    "!cat Visibility/Visibility.sol"
   ]
  },
  {
   "cell_type": "code",
   "execution_count": 562,
   "metadata": {},
   "outputs": [
    {
     "name": "stdout",
     "output_type": "stream",
     "text": [
      "Visibility/Visibility.sol:48:9: Warning: Function declared as view, but this expression (potentially) modifies the state and thus requires non-payable (the default) or payable.\r\n",
      "        priv_int = v;\r\n",
      "        ^------^\r\n",
      "\r\n",
      "======= Visibility/Visibility.sol:Visibility =======\r\n",
      "Binary: \r\n",
      "60806040526020600081905550603060018190555060406002819055506103878061002b6000396000f300608060405260043610610078576000357c0100000000000000000000000000000000000000000000000000000000900463ffffffff1680630f66c3d21461007d5780634c370d25146100be578063529f246f146100e9578063ebd3b3dd14610114578063f455a8151461013f578063fcce02071461016a575b600080fd5b34801561008957600080fd5b506100a8600480360381019080803590602001909291905050506101ab565b6040518082815260200191505060405180910390f35b3480156100ca57600080fd5b506100d36101be565b6040518082815260200191505060405180910390f35b3480156100f557600080fd5b506100fe610208565b6040518082815260200191505060405180910390f35b34801561012057600080fd5b506101296102fa565b6040518082815260200191505060405180910390f35b34801561014b57600080fd5b50610154610300565b6040518082815260200191505060405180910390f35b34801561017657600080fd5b5061019560048036038101908080359060200190929190505050610305565b6040518082815260200191505060405180910390f35b6000816002819055506002549050919050565b600060016002600082825401925050819055506002547f437ed1f411e2ba750c55a12da4f261a1b9f2db8c9046de9ab6119538e1def34560405160405180910390a2600254905090565b60003073ffffffffffffffffffffffffffffffffffffffff16634c370d256040518163ffffffff167c0100000000000000000000000000000000000000000000000000000000028152600401602060405180830381600087803b15801561026e57600080fd5b505af1158015610282573d6000803e3d6000fd5b505050506040513d602081101561029857600080fd5b8101908080519060200190929190505050506102b2610312565b50600160008082825401925050819055506000547f34d768723a29a9246849e01ce19714800375397ee738c9086110a9533c94984160405160405180910390a2600054905090565b60005481565b601081565b6000600182019050919050565b6000600180600082825401925050819055506001547fcae28c4c9d51a9398bd595256d5f3a2f4d2e92f9d6d9870c400fe2fcc281639b60405160405180910390a26001549050905600a165627a7a72305820c5d1718361cefc65953f515050b16b9047a9b4cb28e2db16bfbd0ef0db4c1cac0029\r\n"
     ]
    }
   ],
   "source": [
    "!solc --bin Visibility/Visibility.sol"
   ]
  },
  {
   "cell_type": "code",
   "execution_count": 563,
   "metadata": {},
   "outputs": [],
   "source": [
    "vinstance = util.compile_and_deploy_contract(\"./Visibility/Visibility.sol\")"
   ]
  },
  {
   "cell_type": "code",
   "execution_count": 564,
   "metadata": {},
   "outputs": [
    {
     "data": {
      "text/plain": [
       "'0x20'"
      ]
     },
     "execution_count": 564,
     "metadata": {},
     "output_type": "execute_result"
    }
   ],
   "source": [
    "hex(vinstance.pub_int())"
   ]
  },
  {
   "cell_type": "code",
   "execution_count": 565,
   "metadata": {},
   "outputs": [
    {
     "data": {
      "text/plain": [
       "'0x21'"
      ]
     },
     "execution_count": 565,
     "metadata": {},
     "output_type": "execute_result"
    }
   ],
   "source": [
    "hex(vinstance.pub_change())"
   ]
  },
  {
   "cell_type": "code",
   "execution_count": 566,
   "metadata": {},
   "outputs": [
    {
     "data": {
      "text/plain": [
       "'0x1'"
      ]
     },
     "execution_count": 566,
     "metadata": {},
     "output_type": "execute_result"
    }
   ],
   "source": [
    "hex(vinstance.view_priv_int(1))"
   ]
  },
  {
   "cell_type": "code",
   "execution_count": 557,
   "metadata": {},
   "outputs": [
    {
     "data": {
      "text/plain": [
       "AttributeDict({'transactionHash': HexBytes('0xf581da02ccfc3592a50e31b7928dd1f73903cc8f62e2cefc296006b5937ae556'),\n",
       " 'transactionIndex': 0,\n",
       " 'blockHash': HexBytes('0xdbdabee23a6c21447fcded59ee79ad5b4c002dbcd1e870c83f2948e34a234067'),\n",
       " 'blockNumber': 111,\n",
       " 'from': '0xa17fb6cc107693b92e45e49022a2854ac0deaf25',\n",
       " 'to': '0x94b08c79e384230e69efd1b037203ba3982889ee',\n",
       " 'gasUsed': 43761,\n",
       " 'cumulativeGasUsed': 43761,\n",
       " 'contractAddress': None,\n",
       " 'logs': [AttributeDict({'logIndex': 0,\n",
       "   'transactionIndex': 0,\n",
       "   'transactionHash': HexBytes('0xf581da02ccfc3592a50e31b7928dd1f73903cc8f62e2cefc296006b5937ae556'),\n",
       "   'blockHash': HexBytes('0xdbdabee23a6c21447fcded59ee79ad5b4c002dbcd1e870c83f2948e34a234067'),\n",
       "   'blockNumber': 111,\n",
       "   'address': '0x94B08C79E384230E69eFD1b037203ba3982889EE',\n",
       "   'data': '0x',\n",
       "   'topics': [HexBytes('0x437ed1f411e2ba750c55a12da4f261a1b9f2db8c9046de9ab6119538e1def345'),\n",
       "    HexBytes('0x0000000000000000000000000000000000000000000000000000000000000041')],\n",
       "   'type': 'mined'}),\n",
       "  AttributeDict({'logIndex': 1,\n",
       "   'transactionIndex': 0,\n",
       "   'transactionHash': HexBytes('0xf581da02ccfc3592a50e31b7928dd1f73903cc8f62e2cefc296006b5937ae556'),\n",
       "   'blockHash': HexBytes('0xdbdabee23a6c21447fcded59ee79ad5b4c002dbcd1e870c83f2948e34a234067'),\n",
       "   'blockNumber': 111,\n",
       "   'address': '0x94B08C79E384230E69eFD1b037203ba3982889EE',\n",
       "   'data': '0x',\n",
       "   'topics': [HexBytes('0xcae28c4c9d51a9398bd595256d5f3a2f4d2e92f9d6d9870c400fe2fcc281639b'),\n",
       "    HexBytes('0x0000000000000000000000000000000000000000000000000000000000000031')],\n",
       "   'type': 'mined'}),\n",
       "  AttributeDict({'logIndex': 2,\n",
       "   'transactionIndex': 0,\n",
       "   'transactionHash': HexBytes('0xf581da02ccfc3592a50e31b7928dd1f73903cc8f62e2cefc296006b5937ae556'),\n",
       "   'blockHash': HexBytes('0xdbdabee23a6c21447fcded59ee79ad5b4c002dbcd1e870c83f2948e34a234067'),\n",
       "   'blockNumber': 111,\n",
       "   'address': '0x94B08C79E384230E69eFD1b037203ba3982889EE',\n",
       "   'data': '0x',\n",
       "   'topics': [HexBytes('0x34d768723a29a9246849e01ce19714800375397ee738c9086110a9533c949841'),\n",
       "    HexBytes('0x0000000000000000000000000000000000000000000000000000000000000021')],\n",
       "   'type': 'mined'})],\n",
       " 'status': 1,\n",
       " 'logsBloom': HexBytes('0x00000000000000000000100000100000000000000000000000000040000000004000004000000000000000000000000000000000000000000000000000000000000000000020000000000400000000000000001000000000000000000000000000000000000000010000000020000008000000000000040000000200000000000000000000000004000000000000000001000000000000000000000000000000000000000000020000000000000000000020000000000000100000000000000000000000000000000000000000000000000000000000000000000000000000000000000000000000000000004008000000000000000000000000001000000000'),\n",
       " 'v': '0x1c',\n",
       " 'r': '0xc86124da031a354945e6d90b95b624fdac938b928b6993b91992a722ce1c2fac',\n",
       " 's': '0x016b225bec49c7907b04e7cf4f0f5c07b70b634671fd78d90f174faa358dc4c0'})"
      ]
     },
     "execution_count": 557,
     "metadata": {},
     "output_type": "execute_result"
    }
   ],
   "source": [
    "tx_receipt = vinstance.pub_change(transact={\"from\":w3.eth.coinbase,})\n",
    "tx_receipt"
   ]
  },
  {
   "cell_type": "code",
   "execution_count": null,
   "metadata": {},
   "outputs": [],
   "source": []
  }
 ],
 "metadata": {
  "kernelspec": {
   "display_name": "Python 3",
   "language": "python",
   "name": "python3"
  },
  "language_info": {
   "codemirror_mode": {
    "name": "ipython",
    "version": 3
   },
   "file_extension": ".py",
   "mimetype": "text/x-python",
   "name": "python",
   "nbconvert_exporter": "python",
   "pygments_lexer": "ipython3",
   "version": "3.7.1"
  }
 },
 "nbformat": 4,
 "nbformat_minor": 2
}
